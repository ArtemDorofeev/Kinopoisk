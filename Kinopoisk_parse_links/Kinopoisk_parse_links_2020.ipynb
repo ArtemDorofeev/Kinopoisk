{
 "cells": [
  {
   "cell_type": "code",
   "execution_count": 1,
   "id": "45745300",
   "metadata": {
    "scrolled": false
   },
   "outputs": [
    {
     "name": "stdout",
     "output_type": "stream",
     "text": [
      "Name: webdriver-manager\n",
      "Version: 3.8.5\n",
      "Summary: Library provides the way to automatically manage drivers for different browsers\n",
      "Home-page: https://github.com/SergeyPirogov/webdriver_manager\n",
      "Author: Sergey Pirogov\n",
      "Author-email: automationremarks@gmail.com\n",
      "License: \n",
      "Location: c:\\users\\admin\\anaconda3\\lib\\site-packages\n",
      "Requires: packaging, tqdm, python-dotenv, requests\n",
      "Required-by: \n"
     ]
    }
   ],
   "source": [
    "!pip show webdriver_manager"
   ]
  },
  {
   "cell_type": "code",
   "execution_count": 2,
   "id": "6ebdf397",
   "metadata": {},
   "outputs": [],
   "source": [
    "import pandas as pd\n",
    "import numpy as np\n",
    "from selenium import webdriver\n",
    "import requests\n",
    "from bs4 import BeautifulSoup\n",
    "import lxml\n",
    "import json\n",
    "import time\n",
    "import csv"
   ]
  },
  {
   "cell_type": "code",
   "execution_count": 3,
   "id": "a9d2dc27",
   "metadata": {},
   "outputs": [],
   "source": [
    "from webdriver_manager.chrome import ChromeDriverManager\n",
    "from selenium.webdriver.chrome.service import Service"
   ]
  },
  {
   "cell_type": "code",
   "execution_count": 4,
   "id": "0b5938ac",
   "metadata": {},
   "outputs": [],
   "source": [
    "service = Service(executable_path=ChromeDriverManager().install())"
   ]
  },
  {
   "cell_type": "code",
   "execution_count": 6,
   "id": "d05f4724",
   "metadata": {},
   "outputs": [],
   "source": [
    "#driver = webdriver.Chrome(service=service)"
   ]
  },
  {
   "cell_type": "code",
   "execution_count": 32,
   "id": "29934982",
   "metadata": {},
   "outputs": [],
   "source": [
    "# driver.get(lnk)\n",
    "# html = driver.page_source"
   ]
  },
  {
   "cell_type": "code",
   "execution_count": 5,
   "id": "8b660ec5",
   "metadata": {},
   "outputs": [],
   "source": [
    "# Формируем суп-объект\n",
    "\n",
    "def get_soup(url):    \n",
    "    driver.get(url)    \n",
    "    html = driver.page_source\n",
    "    soup = BeautifulSoup(html, \"lxml\")\n",
    "    return soup"
   ]
  },
  {
   "cell_type": "code",
   "execution_count": 6,
   "id": "c8654ad7",
   "metadata": {},
   "outputs": [],
   "source": [
    "# Извлекаем из soup-объекта название и ссылку с id фильма\n",
    "\n",
    "def links_parse(row):\n",
    "    page = []\n",
    "    time.sleep(5)\n",
    "    try:\n",
    "        soup = get_soup(row)\n",
    "        block_pos = soup.select(\"div.styles_upper__j8BIs a\")\n",
    "        for i in block_pos:    \n",
    "            name_pos = i.select_one(\"div.base-movie-main-info_mainInfo__ZL_u3\").get_text()\n",
    "            link_pos = i.get('href')\n",
    "            dic = {'name': name_pos, 'link': link_pos}  \n",
    "            page.append(dic)\n",
    "    except:\n",
    "        page = []\n",
    "    return page"
   ]
  },
  {
   "cell_type": "code",
   "execution_count": 7,
   "id": "789f3e73",
   "metadata": {},
   "outputs": [],
   "source": [
    "# ЗАПУСК ПАРСИНГА\n",
    "# - год меняется в теле ссылки после year--\n",
    "# - количество страниц пагинации меняется в параметрах цикла range внутри скобок\n",
    "\n",
    "link = 'https://www.kinopoisk.ru/lists/movies/year--2020/?page={}'\n",
    "year = []\n",
    "driver = webdriver.Chrome(service=service) # Открывает новую отдельную вкладку браузера хром от selenium\n",
    "for i in range(1, 1193):\n",
    "    ln = link.format(i)\n",
    "    inf = links_parse(ln)\n",
    "    year.extend(inf)\n",
    "driver.quit()   # Закрывает отдельную вкладку браузера хром от selenium после выполнения цикла"
   ]
  },
  {
   "cell_type": "code",
   "execution_count": 8,
   "id": "36f1d2d4",
   "metadata": {},
   "outputs": [],
   "source": [
    "# Записываем результаты в датафрейм\n",
    "\n",
    "df_2020 = pd.DataFrame(year)"
   ]
  },
  {
   "cell_type": "code",
   "execution_count": 10,
   "id": "46fc1016",
   "metadata": {},
   "outputs": [],
   "source": [
    "# Прибавляем хвост ссылки к домену\n",
    "\n",
    "df_2020['links'] = df_2020['link'].apply(lambda x: 'https://www.kinopoisk.ru' + x)\n",
    "df_2020 = df_2020[['name', 'links']]"
   ]
  },
  {
   "cell_type": "code",
   "execution_count": 11,
   "id": "c12a591c",
   "metadata": {},
   "outputs": [
    {
     "data": {
      "text/html": [
       "<div>\n",
       "<style scoped>\n",
       "    .dataframe tbody tr th:only-of-type {\n",
       "        vertical-align: middle;\n",
       "    }\n",
       "\n",
       "    .dataframe tbody tr th {\n",
       "        vertical-align: top;\n",
       "    }\n",
       "\n",
       "    .dataframe thead th {\n",
       "        text-align: right;\n",
       "    }\n",
       "</style>\n",
       "<table border=\"1\" class=\"dataframe\">\n",
       "  <thead>\n",
       "    <tr style=\"text-align: right;\">\n",
       "      <th></th>\n",
       "      <th>name</th>\n",
       "      <th>links</th>\n",
       "    </tr>\n",
       "  </thead>\n",
       "  <tbody>\n",
       "    <tr>\n",
       "      <th>0</th>\n",
       "      <td>Рик и Морти</td>\n",
       "      <td>https://www.kinopoisk.ru/series/685246/</td>\n",
       "    </tr>\n",
       "    <tr>\n",
       "      <th>1</th>\n",
       "      <td>Триггер</td>\n",
       "      <td>https://www.kinopoisk.ru/series/1100777/</td>\n",
       "    </tr>\n",
       "    <tr>\n",
       "      <th>2</th>\n",
       "      <td>Беспринципные</td>\n",
       "      <td>https://www.kinopoisk.ru/series/1355059/</td>\n",
       "    </tr>\n",
       "    <tr>\n",
       "      <th>3</th>\n",
       "      <td>Душа</td>\n",
       "      <td>https://www.kinopoisk.ru/film/775273/</td>\n",
       "    </tr>\n",
       "    <tr>\n",
       "      <th>4</th>\n",
       "      <td>Маша и Медведь</td>\n",
       "      <td>https://www.kinopoisk.ru/series/478491/</td>\n",
       "    </tr>\n",
       "    <tr>\n",
       "      <th>...</th>\n",
       "      <td>...</td>\n",
       "      <td>...</td>\n",
       "    </tr>\n",
       "    <tr>\n",
       "      <th>51644</th>\n",
       "      <td>Never Ever</td>\n",
       "      <td>https://www.kinopoisk.ru/series/1366143/</td>\n",
       "    </tr>\n",
       "    <tr>\n",
       "      <th>51645</th>\n",
       "      <td>Партия</td>\n",
       "      <td>https://www.kinopoisk.ru/series/957853/</td>\n",
       "    </tr>\n",
       "    <tr>\n",
       "      <th>51646</th>\n",
       "      <td>Крым</td>\n",
       "      <td>https://www.kinopoisk.ru/series/982486/</td>\n",
       "    </tr>\n",
       "    <tr>\n",
       "      <th>51647</th>\n",
       "      <td>СССР</td>\n",
       "      <td>https://www.kinopoisk.ru/series/1040584/</td>\n",
       "    </tr>\n",
       "    <tr>\n",
       "      <th>51648</th>\n",
       "      <td>De Kleine Zeemeermin</td>\n",
       "      <td>https://www.kinopoisk.ru/series/1047265/</td>\n",
       "    </tr>\n",
       "  </tbody>\n",
       "</table>\n",
       "<p>51649 rows × 2 columns</p>\n",
       "</div>"
      ],
      "text/plain": [
       "                       name                                     links\n",
       "0               Рик и Морти   https://www.kinopoisk.ru/series/685246/\n",
       "1                   Триггер  https://www.kinopoisk.ru/series/1100777/\n",
       "2             Беспринципные  https://www.kinopoisk.ru/series/1355059/\n",
       "3                      Душа     https://www.kinopoisk.ru/film/775273/\n",
       "4            Маша и Медведь   https://www.kinopoisk.ru/series/478491/\n",
       "...                     ...                                       ...\n",
       "51644            Never Ever  https://www.kinopoisk.ru/series/1366143/\n",
       "51645                Партия   https://www.kinopoisk.ru/series/957853/\n",
       "51646                  Крым   https://www.kinopoisk.ru/series/982486/\n",
       "51647                  СССР  https://www.kinopoisk.ru/series/1040584/\n",
       "51648  De Kleine Zeemeermin  https://www.kinopoisk.ru/series/1047265/\n",
       "\n",
       "[51649 rows x 2 columns]"
      ]
     },
     "execution_count": 11,
     "metadata": {},
     "output_type": "execute_result"
    }
   ],
   "source": [
    "df_2020"
   ]
  },
  {
   "cell_type": "code",
   "execution_count": 13,
   "id": "77bb410c",
   "metadata": {},
   "outputs": [],
   "source": [
    "df_2020.to_csv('D:\\\\Data\\\\Kinopoisk\\\\csv\\\\df_2020.csv')"
   ]
  },
  {
   "cell_type": "code",
   "execution_count": null,
   "id": "f145b557",
   "metadata": {},
   "outputs": [],
   "source": []
  },
  {
   "cell_type": "code",
   "execution_count": 8,
   "id": "650a671c",
   "metadata": {},
   "outputs": [],
   "source": [
    "driver.quit()"
   ]
  }
 ],
 "metadata": {
  "kernelspec": {
   "display_name": "Python 3 (ipykernel)",
   "language": "python",
   "name": "python3"
  },
  "language_info": {
   "codemirror_mode": {
    "name": "ipython",
    "version": 3
   },
   "file_extension": ".py",
   "mimetype": "text/x-python",
   "name": "python",
   "nbconvert_exporter": "python",
   "pygments_lexer": "ipython3",
   "version": "3.9.12"
  }
 },
 "nbformat": 4,
 "nbformat_minor": 5
}
