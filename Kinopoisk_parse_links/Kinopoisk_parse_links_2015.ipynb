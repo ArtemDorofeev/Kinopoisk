{
 "cells": [
  {
   "cell_type": "code",
   "execution_count": 1,
   "id": "45745300",
   "metadata": {
    "scrolled": false
   },
   "outputs": [
    {
     "name": "stdout",
     "output_type": "stream",
     "text": [
      "Name: webdriver-manager\n",
      "Version: 3.8.5\n",
      "Summary: Library provides the way to automatically manage drivers for different browsers\n",
      "Home-page: https://github.com/SergeyPirogov/webdriver_manager\n",
      "Author: Sergey Pirogov\n",
      "Author-email: automationremarks@gmail.com\n",
      "License: \n",
      "Location: c:\\users\\admin\\anaconda3\\lib\\site-packages\n",
      "Requires: packaging, tqdm, python-dotenv, requests\n",
      "Required-by: \n"
     ]
    }
   ],
   "source": [
    "!pip show webdriver_manager"
   ]
  },
  {
   "cell_type": "code",
   "execution_count": 1,
   "id": "6ebdf397",
   "metadata": {},
   "outputs": [],
   "source": [
    "import pandas as pd\n",
    "import numpy as np\n",
    "from selenium import webdriver\n",
    "import requests\n",
    "from bs4 import BeautifulSoup\n",
    "import lxml\n",
    "import json\n",
    "import time\n",
    "import csv"
   ]
  },
  {
   "cell_type": "code",
   "execution_count": 2,
   "id": "a9d2dc27",
   "metadata": {},
   "outputs": [],
   "source": [
    "from webdriver_manager.chrome import ChromeDriverManager\n",
    "from selenium.webdriver.chrome.service import Service"
   ]
  },
  {
   "cell_type": "code",
   "execution_count": 3,
   "id": "0b5938ac",
   "metadata": {},
   "outputs": [],
   "source": [
    "service = Service(executable_path=ChromeDriverManager().install())"
   ]
  },
  {
   "cell_type": "code",
   "execution_count": 4,
   "id": "8b660ec5",
   "metadata": {},
   "outputs": [],
   "source": [
    "# Формируем суп-объект\n",
    "\n",
    "def get_soup(url):    \n",
    "    driver.get(url)    \n",
    "    html = driver.page_source\n",
    "    soup = BeautifulSoup(html, \"lxml\")\n",
    "    return soup"
   ]
  },
  {
   "cell_type": "code",
   "execution_count": 5,
   "id": "c8654ad7",
   "metadata": {},
   "outputs": [],
   "source": [
    "# Извлекаем из soup-объекта название и ссылку с id фильма\n",
    "\n",
    "def links_parse(row):\n",
    "    page = []\n",
    "    time.sleep(5)\n",
    "    try:\n",
    "        soup = get_soup(row)\n",
    "        block_pos = soup.select(\"div.styles_upper__j8BIs a\")\n",
    "        for i in block_pos:    \n",
    "            name_pos = i.select_one(\"div.base-movie-main-info_mainInfo__ZL_u3\").get_text()\n",
    "            link_pos = i.get('href')\n",
    "            dic = {'name': name_pos, 'link': link_pos}  \n",
    "            page.append(dic)\n",
    "    except:\n",
    "        page = []\n",
    "    return page"
   ]
  },
  {
   "cell_type": "code",
   "execution_count": 6,
   "id": "c92fdf67",
   "metadata": {},
   "outputs": [],
   "source": [
    "driver = webdriver.Chrome(service=service) # Открывает новую отдельную вкладку браузера хром от selenium"
   ]
  },
  {
   "cell_type": "code",
   "execution_count": 7,
   "id": "789f3e73",
   "metadata": {},
   "outputs": [],
   "source": [
    "# ЗАПУСК ПАРСИНГА\n",
    "# - год меняется в теле ссылки после year--\n",
    "# - количество страниц пагинации меняется в параметрах цикла range внутри скобок\n",
    "\n",
    "link = 'https://www.kinopoisk.ru/lists/movies/year--2015/?page={}'\n",
    "year = []\n",
    "#driver = webdriver.Chrome(service=service) # Открывает новую отдельную вкладку браузера хром от selenium\n",
    "for i in range(1, 740):\n",
    "    ln = link.format(i)\n",
    "    inf = links_parse(ln)\n",
    "    year.extend(inf)\n",
    "driver.quit()   # Закрывает отдельную вкладку браузера хром от selenium после выполнения цикла"
   ]
  },
  {
   "cell_type": "code",
   "execution_count": 9,
   "id": "36f1d2d4",
   "metadata": {},
   "outputs": [],
   "source": [
    "# Записываем результаты в датафрейм\n",
    "\n",
    "df_2015 = pd.DataFrame(year)"
   ]
  },
  {
   "cell_type": "code",
   "execution_count": 10,
   "id": "46fc1016",
   "metadata": {},
   "outputs": [],
   "source": [
    "# Прибавляем хвост ссылки к домену\n",
    "\n",
    "df_2015['links'] = df_2015['link'].apply(lambda x: 'https://www.kinopoisk.ru' + x)\n",
    "df_2015 = df_2015[['name', 'links']]"
   ]
  },
  {
   "cell_type": "code",
   "execution_count": 13,
   "id": "c12a591c",
   "metadata": {},
   "outputs": [
    {
     "data": {
      "text/html": [
       "<div>\n",
       "<style scoped>\n",
       "    .dataframe tbody tr th:only-of-type {\n",
       "        vertical-align: middle;\n",
       "    }\n",
       "\n",
       "    .dataframe tbody tr th {\n",
       "        vertical-align: top;\n",
       "    }\n",
       "\n",
       "    .dataframe thead th {\n",
       "        text-align: right;\n",
       "    }\n",
       "</style>\n",
       "<table border=\"1\" class=\"dataframe\">\n",
       "  <thead>\n",
       "    <tr style=\"text-align: right;\">\n",
       "      <th></th>\n",
       "      <th>name</th>\n",
       "      <th>links</th>\n",
       "    </tr>\n",
       "  </thead>\n",
       "  <tbody>\n",
       "    <tr>\n",
       "      <th>0</th>\n",
       "      <td>Игра престолов</td>\n",
       "      <td>https://www.kinopoisk.ru/series/464963/</td>\n",
       "    </tr>\n",
       "    <tr>\n",
       "      <th>1</th>\n",
       "      <td>Рик и Морти</td>\n",
       "      <td>https://www.kinopoisk.ru/series/685246/</td>\n",
       "    </tr>\n",
       "    <tr>\n",
       "      <th>2</th>\n",
       "      <td>Легенда</td>\n",
       "      <td>https://www.kinopoisk.ru/film/839954/</td>\n",
       "    </tr>\n",
       "    <tr>\n",
       "      <th>3</th>\n",
       "      <td>Марсианин</td>\n",
       "      <td>https://www.kinopoisk.ru/film/841700/</td>\n",
       "    </tr>\n",
       "    <tr>\n",
       "      <th>4</th>\n",
       "      <td>Головоломка</td>\n",
       "      <td>https://www.kinopoisk.ru/film/645118/</td>\n",
       "    </tr>\n",
       "    <tr>\n",
       "      <th>...</th>\n",
       "      <td>...</td>\n",
       "      <td>...</td>\n",
       "    </tr>\n",
       "    <tr>\n",
       "      <th>36945</th>\n",
       "      <td>De Kleine Zeemeermin</td>\n",
       "      <td>https://www.kinopoisk.ru/series/1047265/</td>\n",
       "    </tr>\n",
       "    <tr>\n",
       "      <th>36946</th>\n",
       "      <td>Она решила — хватит значит хватит</td>\n",
       "      <td>https://www.kinopoisk.ru/film/1162789/</td>\n",
       "    </tr>\n",
       "    <tr>\n",
       "      <th>36947</th>\n",
       "      <td>Воины Ватерлоо</td>\n",
       "      <td>https://www.kinopoisk.ru/film/1199824/</td>\n",
       "    </tr>\n",
       "    <tr>\n",
       "      <th>36948</th>\n",
       "      <td>Корейский альбом, без комментариев</td>\n",
       "      <td>https://www.kinopoisk.ru/film/1354874/</td>\n",
       "    </tr>\n",
       "    <tr>\n",
       "      <th>36949</th>\n",
       "      <td>Американская мечта</td>\n",
       "      <td>https://www.kinopoisk.ru/film/4474709/</td>\n",
       "    </tr>\n",
       "  </tbody>\n",
       "</table>\n",
       "<p>36950 rows × 2 columns</p>\n",
       "</div>"
      ],
      "text/plain": [
       "                                     name  \\\n",
       "0                          Игра престолов   \n",
       "1                             Рик и Морти   \n",
       "2                                 Легенда   \n",
       "3                               Марсианин   \n",
       "4                             Головоломка   \n",
       "...                                   ...   \n",
       "36945                De Kleine Zeemeermin   \n",
       "36946   Она решила — хватит значит хватит   \n",
       "36947                      Воины Ватерлоо   \n",
       "36948  Корейский альбом, без комментариев   \n",
       "36949                  Американская мечта   \n",
       "\n",
       "                                          links  \n",
       "0       https://www.kinopoisk.ru/series/464963/  \n",
       "1       https://www.kinopoisk.ru/series/685246/  \n",
       "2         https://www.kinopoisk.ru/film/839954/  \n",
       "3         https://www.kinopoisk.ru/film/841700/  \n",
       "4         https://www.kinopoisk.ru/film/645118/  \n",
       "...                                         ...  \n",
       "36945  https://www.kinopoisk.ru/series/1047265/  \n",
       "36946    https://www.kinopoisk.ru/film/1162789/  \n",
       "36947    https://www.kinopoisk.ru/film/1199824/  \n",
       "36948    https://www.kinopoisk.ru/film/1354874/  \n",
       "36949    https://www.kinopoisk.ru/film/4474709/  \n",
       "\n",
       "[36950 rows x 2 columns]"
      ]
     },
     "execution_count": 13,
     "metadata": {},
     "output_type": "execute_result"
    }
   ],
   "source": [
    "df_2015"
   ]
  },
  {
   "cell_type": "code",
   "execution_count": 14,
   "id": "77bb410c",
   "metadata": {},
   "outputs": [],
   "source": [
    "df_2015.to_csv('D:\\\\Data\\\\Kinopoisk\\\\csv\\\\df_2015.csv')"
   ]
  },
  {
   "cell_type": "code",
   "execution_count": null,
   "id": "f145b557",
   "metadata": {},
   "outputs": [],
   "source": []
  },
  {
   "cell_type": "code",
   "execution_count": 10,
   "id": "650a671c",
   "metadata": {},
   "outputs": [],
   "source": [
    "driver.quit()"
   ]
  }
 ],
 "metadata": {
  "kernelspec": {
   "display_name": "Python 3 (ipykernel)",
   "language": "python",
   "name": "python3"
  },
  "language_info": {
   "codemirror_mode": {
    "name": "ipython",
    "version": 3
   },
   "file_extension": ".py",
   "mimetype": "text/x-python",
   "name": "python",
   "nbconvert_exporter": "python",
   "pygments_lexer": "ipython3",
   "version": "3.9.12"
  }
 },
 "nbformat": 4,
 "nbformat_minor": 5
}
