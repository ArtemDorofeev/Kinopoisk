{
 "cells": [
  {
   "cell_type": "code",
   "execution_count": 78,
   "id": "7b50db36",
   "metadata": {},
   "outputs": [],
   "source": [
    "import pandas as pd\n",
    "import numpy as np\n",
    "import requests\n",
    "from bs4 import BeautifulSoup\n",
    "import lxml\n",
    "import json\n",
    "import time\n",
    "import csv"
   ]
  },
  {
   "cell_type": "code",
   "execution_count": 151,
   "id": "7f19789f",
   "metadata": {},
   "outputs": [],
   "source": [
    "dataset = pd.read_csv('D:\\\\Data\\\\Kinopoisk\\\\characteristics\\\\kino_char_part5000.csv')"
   ]
  },
  {
   "cell_type": "code",
   "execution_count": 152,
   "id": "0890251c",
   "metadata": {
    "scrolled": true
   },
   "outputs": [
    {
     "data": {
      "text/html": [
       "<div>\n",
       "<style scoped>\n",
       "    .dataframe tbody tr th:only-of-type {\n",
       "        vertical-align: middle;\n",
       "    }\n",
       "\n",
       "    .dataframe tbody tr th {\n",
       "        vertical-align: top;\n",
       "    }\n",
       "\n",
       "    .dataframe thead th {\n",
       "        text-align: right;\n",
       "    }\n",
       "</style>\n",
       "<table border=\"1\" class=\"dataframe\">\n",
       "  <thead>\n",
       "    <tr style=\"text-align: right;\">\n",
       "      <th></th>\n",
       "      <th>Unnamed: 0</th>\n",
       "      <th>name</th>\n",
       "      <th>links</th>\n",
       "      <th>year</th>\n",
       "      <th>type</th>\n",
       "      <th>char</th>\n",
       "    </tr>\n",
       "  </thead>\n",
       "  <tbody>\n",
       "    <tr>\n",
       "      <th>0</th>\n",
       "      <td>2501</td>\n",
       "      <td>Кволик</td>\n",
       "      <td>https://www.kinopoisk.ru/series/980498/</td>\n",
       "      <td>2015</td>\n",
       "      <td>series</td>\n",
       "      <td>{'name_rate': [{'name': 'Кволик (сериал 2015 –...</td>\n",
       "    </tr>\n",
       "    <tr>\n",
       "      <th>1</th>\n",
       "      <td>2502</td>\n",
       "      <td>Ослеплена тобой!</td>\n",
       "      <td>https://www.kinopoisk.ru/film/867367/</td>\n",
       "      <td>2015</td>\n",
       "      <td>film</td>\n",
       "      <td>{'name_rate': [{'name': 'Ослеплена тобой! (201...</td>\n",
       "    </tr>\n",
       "    <tr>\n",
       "      <th>2</th>\n",
       "      <td>2503</td>\n",
       "      <td>Гарри Прайс: охотник за привидениями</td>\n",
       "      <td>https://www.kinopoisk.ru/film/957235/</td>\n",
       "      <td>2015</td>\n",
       "      <td>film</td>\n",
       "      <td>{'name_rate': [{'name': 'Гарри Прайс: охотник ...</td>\n",
       "    </tr>\n",
       "    <tr>\n",
       "      <th>3</th>\n",
       "      <td>2504</td>\n",
       "      <td>Взгляд</td>\n",
       "      <td>https://www.kinopoisk.ru/series/404942/</td>\n",
       "      <td>2015</td>\n",
       "      <td>series</td>\n",
       "      <td>{'name_rate': [{'name': 'Взгляд (сериал 1997)'...</td>\n",
       "    </tr>\n",
       "    <tr>\n",
       "      <th>4</th>\n",
       "      <td>2505</td>\n",
       "      <td>Наследие</td>\n",
       "      <td>https://www.kinopoisk.ru/series/818732/</td>\n",
       "      <td>2015</td>\n",
       "      <td>series</td>\n",
       "      <td>{'name_rate': [{'name': 'Наследие (сериал 2014...</td>\n",
       "    </tr>\n",
       "    <tr>\n",
       "      <th>...</th>\n",
       "      <td>...</td>\n",
       "      <td>...</td>\n",
       "      <td>...</td>\n",
       "      <td>...</td>\n",
       "      <td>...</td>\n",
       "      <td>...</td>\n",
       "    </tr>\n",
       "    <tr>\n",
       "      <th>2495</th>\n",
       "      <td>4996</td>\n",
       "      <td>Drag Race: Untucked!</td>\n",
       "      <td>https://www.kinopoisk.ru/series/1379053/</td>\n",
       "      <td>2015</td>\n",
       "      <td>series</td>\n",
       "      <td>{'name_rate': [{'name': 'Drag Race: Untucked! ...</td>\n",
       "    </tr>\n",
       "    <tr>\n",
       "      <th>2496</th>\n",
       "      <td>4997</td>\n",
       "      <td>C à vous</td>\n",
       "      <td>https://www.kinopoisk.ru/series/1138884/</td>\n",
       "      <td>2015</td>\n",
       "      <td>series</td>\n",
       "      <td>{'name_rate': [{'name': 'C à vous (сериал 2009...</td>\n",
       "    </tr>\n",
       "    <tr>\n",
       "      <th>2497</th>\n",
       "      <td>4998</td>\n",
       "      <td>Проклятые солдаты</td>\n",
       "      <td>https://www.kinopoisk.ru/film/683252/</td>\n",
       "      <td>2015</td>\n",
       "      <td>film</td>\n",
       "      <td>{'name_rate': [{'name': 'Проклятые солдаты (20...</td>\n",
       "    </tr>\n",
       "    <tr>\n",
       "      <th>2498</th>\n",
       "      <td>4999</td>\n",
       "      <td>Ортодокс</td>\n",
       "      <td>https://www.kinopoisk.ru/film/746302/</td>\n",
       "      <td>2015</td>\n",
       "      <td>film</td>\n",
       "      <td>{'name_rate': [{'name': 'Ортодокс (2015)', 'de...</td>\n",
       "    </tr>\n",
       "    <tr>\n",
       "      <th>2499</th>\n",
       "      <td>5000</td>\n",
       "      <td>Грязный уик-энд</td>\n",
       "      <td>https://www.kinopoisk.ru/film/798629/</td>\n",
       "      <td>2015</td>\n",
       "      <td>film</td>\n",
       "      <td>{'name_rate': [{'name': 'Грязный уик-энд (2015...</td>\n",
       "    </tr>\n",
       "  </tbody>\n",
       "</table>\n",
       "<p>2500 rows × 6 columns</p>\n",
       "</div>"
      ],
      "text/plain": [
       "      Unnamed: 0                                  name  \\\n",
       "0           2501                                Кволик   \n",
       "1           2502                      Ослеплена тобой!   \n",
       "2           2503  Гарри Прайс: охотник за привидениями   \n",
       "3           2504                                Взгляд   \n",
       "4           2505                              Наследие   \n",
       "...          ...                                   ...   \n",
       "2495        4996                  Drag Race: Untucked!   \n",
       "2496        4997                              C à vous   \n",
       "2497        4998                     Проклятые солдаты   \n",
       "2498        4999                              Ортодокс   \n",
       "2499        5000                       Грязный уик-энд   \n",
       "\n",
       "                                         links  year    type  \\\n",
       "0      https://www.kinopoisk.ru/series/980498/  2015  series   \n",
       "1        https://www.kinopoisk.ru/film/867367/  2015    film   \n",
       "2        https://www.kinopoisk.ru/film/957235/  2015    film   \n",
       "3      https://www.kinopoisk.ru/series/404942/  2015  series   \n",
       "4      https://www.kinopoisk.ru/series/818732/  2015  series   \n",
       "...                                        ...   ...     ...   \n",
       "2495  https://www.kinopoisk.ru/series/1379053/  2015  series   \n",
       "2496  https://www.kinopoisk.ru/series/1138884/  2015  series   \n",
       "2497     https://www.kinopoisk.ru/film/683252/  2015    film   \n",
       "2498     https://www.kinopoisk.ru/film/746302/  2015    film   \n",
       "2499     https://www.kinopoisk.ru/film/798629/  2015    film   \n",
       "\n",
       "                                                   char  \n",
       "0     {'name_rate': [{'name': 'Кволик (сериал 2015 –...  \n",
       "1     {'name_rate': [{'name': 'Ослеплена тобой! (201...  \n",
       "2     {'name_rate': [{'name': 'Гарри Прайс: охотник ...  \n",
       "3     {'name_rate': [{'name': 'Взгляд (сериал 1997)'...  \n",
       "4     {'name_rate': [{'name': 'Наследие (сериал 2014...  \n",
       "...                                                 ...  \n",
       "2495  {'name_rate': [{'name': 'Drag Race: Untucked! ...  \n",
       "2496  {'name_rate': [{'name': 'C à vous (сериал 2009...  \n",
       "2497  {'name_rate': [{'name': 'Проклятые солдаты (20...  \n",
       "2498  {'name_rate': [{'name': 'Ортодокс (2015)', 'de...  \n",
       "2499  {'name_rate': [{'name': 'Грязный уик-энд (2015...  \n",
       "\n",
       "[2500 rows x 6 columns]"
      ]
     },
     "execution_count": 152,
     "metadata": {},
     "output_type": "execute_result"
    }
   ],
   "source": [
    "df = dataset.copy()\n",
    "df"
   ]
  },
  {
   "cell_type": "code",
   "execution_count": 138,
   "id": "729bc3b6",
   "metadata": {
    "scrolled": true
   },
   "outputs": [
    {
     "data": {
      "text/plain": [
       "['{\"Год производства\": [<div class=\"styles_valueDark__BCk93 styles_value__g6yP4\" data-tid=\"cfbe5a01\"><a class=\"styles_linkDark__7m929 styles_link__3QfAk\" href=\"/lists/movies/year--2015/?b=films&amp;b=top\">2015</a></div>]',\n",
       " '\"Страна\": [<div class=\"styles_valueDark__BCk93 styles_value__g6yP4\" data-tid=\"d5ff4cc\"><a class=\"styles_linkDark__7m929 styles_link__3QfAk\" data-tid=\"603f73a4\" href=\"/lists/movies/country--9/?b=films&amp;b=top\">Япония</a></div>]',\n",
       " '\"Жанр\": [<div class=\"styles_valueDark__BCk93 styles_value__g6yP4 styles_root__5PEXQ\" data-tid=\"28726596\"><div class=\"styles_valueDark__BCk93 styles_value__g6yP4\" data-tid=\"d5ff4cc\"><a class=\"styles_linkDark__7m929 styles_link__3QfAk\" data-tid=\"603f73a4\" href=\"/lists/movies/genre--romance/?b=films&amp;b=top\">мелодрама</a>, <a class=\"styles_linkDark__7m929 styles_link__3QfAk\" data-tid=\"603f73a4\" href=\"/lists/movies/genre--drama/?b=films&amp;b=top\">драма</a></div></div>, <div class=\"styles_valueDark__BCk93 styles_value__g6yP4\" data-tid=\"d5ff4cc\"><a class=\"styles_linkDark__7m929 styles_link__3QfAk\" data-tid=\"603f73a4\" href=\"/lists/movies/genre--romance/?b=films&amp;b=top\">мелодрама</a>, <a class=\"styles_linkDark__7m929 styles_link__3QfAk\" data-tid=\"603f73a4\" href=\"/lists/movies/genre--drama/?b=films&amp;b=top\">драма</a></div>]',\n",
       " '\"Слоган\": [<div class=\"styles_valueDark__BCk93 styles_value__g6yP4\">—</div>]',\n",
       " '\"Режиссер\": [<div class=\"styles_valueDark__BCk93 styles_value__g6yP4\" data-tid=\"d5ff4cc\"><a class=\"styles_linkDark__7m929 styles_link__3QfAk\" data-tid=\"603f73a4\" href=\"/name/399745/\">Рюити Хироки</a></div>]',\n",
       " '\"Сценарий\": [<div class=\"styles_valueDark__BCk93 styles_value__g6yP4\" data-tid=\"d5ff4cc\"><a class=\"styles_linkDark__7m929 styles_link__3QfAk\" data-tid=\"603f73a4\" href=\"/name/2897879/\">Саяка Кувамура</a>, <a class=\"styles_linkDark__7m929 styles_link__3QfAk\" data-tid=\"603f73a4\" href=\"/name/3732847/\">Ио Сакисака</a></div>]',\n",
       " '\"Продюсер\": [<div class=\"styles_valueDark__BCk93 styles_value__g6yP4\" data-tid=\"d5ff4cc\"><a class=\"styles_linkDark__7m929 styles_link__3QfAk\" data-tid=\"603f73a4\" href=\"/name/1977519/\">Хисаси Усуи</a></div>]',\n",
       " '\"Композитор\": [<div class=\"styles_valueDark__BCk93 styles_value__g6yP4\" data-tid=\"d5ff4cc\"><a class=\"styles_linkDark__7m929 styles_link__3QfAk\" data-tid=\"603f73a4\" href=\"/name/2195898/\">Хироко Сэбу</a></div>]',\n",
       " '\"Премьера в мире\": [<div class=\"styles_valueDark__BCk93 styles_value__g6yP4\" data-tid=\"d5ff4cc\"><a class=\"styles_linkDark__7m929 styles_link__3QfAk\" data-tid=\"603f73a4\" href=\"/film/867367/dates/\">14 марта 2015</a>, <a class=\"styles_linkDark__7m929 styles_link__3QfAk\" href=\"/film/867367/dates/\">...</a></div>]',\n",
       " '\"Время\": [<div class=\"styles_valueDark__BCk93 styles_value__g6yP4\" data-tid=\"e1e37c21\"><div class=\"styles_valueDark__BCk93 styles_value__g6yP4\">115 мин. / 01:55</div></div>, <div class=\"styles_valueDark__BCk93 styles_value__g6yP4\">115 мин. / 01:55</div>]}']"
      ]
     },
     "execution_count": 138,
     "metadata": {},
     "output_type": "execute_result"
    }
   ],
   "source": [
    "n = df['about'][1][1:-1]\n",
    "# m = n.split(',')\n",
    "m = n.split('}, {')\n",
    "m"
   ]
  },
  {
   "cell_type": "code",
   "execution_count": 91,
   "id": "e94c4007",
   "metadata": {},
   "outputs": [],
   "source": [
    "#a = json.loads(n)"
   ]
  },
  {
   "cell_type": "code",
   "execution_count": 153,
   "id": "60c4f6c4",
   "metadata": {},
   "outputs": [],
   "source": [
    "df['char'] = df['char'].apply(lambda x: x.replace(\"\\'\", \"\\\"\"))\n",
    "\n",
    "df[['char', 'about']] = df['char'].str.split(', \"about_film\": ', expand= True )\n",
    "\n",
    "df[['about', 'actors']] = df['about'].str.split(', \"actors\": ', expand= True )\n",
    "\n",
    "df[['actors', 'critics']] = df['actors'].str.split(', \"critic_rate\": ', expand= True )"
   ]
  },
  {
   "cell_type": "code",
   "execution_count": 154,
   "id": "f2ef4568",
   "metadata": {},
   "outputs": [],
   "source": [
    "df['top'] = df['char'].apply(lambda x: x[15:-1].split(','))"
   ]
  },
  {
   "cell_type": "code",
   "execution_count": 155,
   "id": "13354350",
   "metadata": {},
   "outputs": [],
   "source": [
    "df['actors'] = df['actors'].apply(lambda x: x[16:-2].split('}, {\"actor_name\": '))"
   ]
  },
  {
   "cell_type": "code",
   "execution_count": 156,
   "id": "9a03169f",
   "metadata": {},
   "outputs": [
    {
     "data": {
      "text/plain": [
       "['{\"name\": \"Ослеплена тобой! (2015)\"',\n",
       " ' \"description\": []',\n",
       " ' \"rating\": \"6.3\"',\n",
       " ' \"grades\": \"422 оценки\"}']"
      ]
     },
     "execution_count": 156,
     "metadata": {},
     "output_type": "execute_result"
    }
   ],
   "source": [
    "df['top'][1]"
   ]
  },
  {
   "cell_type": "code",
   "execution_count": null,
   "id": "16ee00ff",
   "metadata": {},
   "outputs": [],
   "source": []
  }
 ],
 "metadata": {
  "kernelspec": {
   "display_name": "Python 3 (ipykernel)",
   "language": "python",
   "name": "python3"
  },
  "language_info": {
   "codemirror_mode": {
    "name": "ipython",
    "version": 3
   },
   "file_extension": ".py",
   "mimetype": "text/x-python",
   "name": "python",
   "nbconvert_exporter": "python",
   "pygments_lexer": "ipython3",
   "version": "3.9.12"
  }
 },
 "nbformat": 4,
 "nbformat_minor": 5
}
