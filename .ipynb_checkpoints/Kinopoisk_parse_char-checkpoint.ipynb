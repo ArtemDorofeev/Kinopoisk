{
 "cells": [
  {
   "cell_type": "code",
   "execution_count": 1,
   "id": "45745300",
   "metadata": {
    "scrolled": false
   },
   "outputs": [
    {
     "name": "stdout",
     "output_type": "stream",
     "text": [
      "Name: webdriver-manager\n",
      "Version: 3.8.5\n",
      "Summary: Library provides the way to automatically manage drivers for different browsers\n",
      "Home-page: https://github.com/SergeyPirogov/webdriver_manager\n",
      "Author: Sergey Pirogov\n",
      "Author-email: automationremarks@gmail.com\n",
      "License: \n",
      "Location: c:\\users\\admin\\anaconda3\\lib\\site-packages\n",
      "Requires: packaging, tqdm, python-dotenv, requests\n",
      "Required-by: \n"
     ]
    }
   ],
   "source": [
    "!pip show webdriver_manager"
   ]
  },
  {
   "cell_type": "code",
   "execution_count": 80,
   "id": "6ebdf397",
   "metadata": {},
   "outputs": [],
   "source": [
    "import pandas as pd\n",
    "import numpy as np\n",
    "from selenium import webdriver\n",
    "import requests\n",
    "from bs4 import BeautifulSoup\n",
    "import lxml\n",
    "import json\n",
    "import time\n",
    "import csv"
   ]
  },
  {
   "cell_type": "code",
   "execution_count": 81,
   "id": "a9d2dc27",
   "metadata": {},
   "outputs": [],
   "source": [
    "from webdriver_manager.chrome import ChromeDriverManager\n",
    "from selenium.webdriver.chrome.service import Service"
   ]
  },
  {
   "cell_type": "code",
   "execution_count": 82,
   "id": "0b5938ac",
   "metadata": {},
   "outputs": [],
   "source": [
    "service = Service(executable_path=ChromeDriverManager().install())"
   ]
  },
  {
   "cell_type": "code",
   "execution_count": 175,
   "id": "c82f3126",
   "metadata": {},
   "outputs": [
    {
     "data": {
      "text/plain": [
       "'https://www.kinopoisk.ru/film/4542208/'"
      ]
     },
     "execution_count": 175,
     "metadata": {},
     "output_type": "execute_result"
    }
   ],
   "source": [
    "lnk = 'https://www.kinopoisk.ru/film/4542208/'\n",
    "lnk"
   ]
  },
  {
   "cell_type": "code",
   "execution_count": 167,
   "id": "8b660ec5",
   "metadata": {},
   "outputs": [],
   "source": [
    "# Формируем суп-объект\n",
    "\n",
    "def get_soup(url):    \n",
    "    driver.get(url)    \n",
    "    html = driver.page_source\n",
    "    soup = BeautifulSoup(html, \"lxml\")\n",
    "    #info_section = soup.select('div.styles_root__2kxYy')\n",
    "    return soup"
   ]
  },
  {
   "cell_type": "code",
   "execution_count": 184,
   "id": "61fa4ba6",
   "metadata": {},
   "outputs": [],
   "source": [
    "def get_top(row):\n",
    "    list_top = []\n",
    "    try:\n",
    "        name = row.select_one('h1[class*=\"styles_title\"]').get_text()\n",
    "    except:\n",
    "        name = []\n",
    "    \n",
    "    try:\n",
    "        description = row.select_one('div[class*=\"styles_topText\"]').get_text()\n",
    "    except:\n",
    "        description = []\n",
    "        \n",
    "    try:\n",
    "        rating = row.select_one('span[class*=\"film-rating-value\"]').get_text()\n",
    "    except:\n",
    "        rating = []\n",
    "        \n",
    "    try:\n",
    "        grades = row.select_one('div[class*=\"styles_countBlock\"]').get_text()\n",
    "    except:\n",
    "        grades = []\n",
    "    \n",
    "    dic = {'name': name, 'description': description, 'rating': rating, 'grades': grades}\n",
    "    list_top.append(dic)\n",
    "    return list_top"
   ]
  },
  {
   "cell_type": "code",
   "execution_count": 169,
   "id": "b4d10d33",
   "metadata": {},
   "outputs": [],
   "source": [
    "def get_about(row):    \n",
    "    about_block = row.select('div[class*=\"styles_rowLight\"]')\n",
    "    list_about = []\n",
    "    for i in about_block:\n",
    "        try:            \n",
    "            title = i.select_one('div[class*=\"styles_titleLight\"]').get_text()\n",
    "            values = i.select('div[class*=\"styles_valueLight\"]')    \n",
    "            dic = {title: values}\n",
    "        except:\n",
    "            dic = {}\n",
    "        list_about.append(dic)        \n",
    "    return list_about\n"
   ]
  },
  {
   "cell_type": "code",
   "execution_count": 170,
   "id": "0714b30d",
   "metadata": {},
   "outputs": [],
   "source": [
    "def get_actor(row):\n",
    "    list_actor = []\n",
    "    try:        \n",
    "        actor_block = row.select('div[class*=\"styles_actors\"] ul li')        \n",
    "        for i in actor_block:\n",
    "            link = i.select_one('a').get('href')\n",
    "            actor_name = i.get_text()\n",
    "            dic = {'actor_name': actor_name, 'link': link}\n",
    "            list_actor.append(dic)\n",
    "    except:\n",
    "        list_actor = list_actor\n",
    "    return list_actor"
   ]
  },
  {
   "cell_type": "code",
   "execution_count": 171,
   "id": "28ac5aab",
   "metadata": {},
   "outputs": [],
   "source": [
    "def get_low(row):    \n",
    "    try:\n",
    "        critic_section = row.select_one('div[class*=\"styles_criticRatingSection\"]')    \n",
    "        try:\n",
    "            critic_positive = critic_section.select_one('span[class*=\"film-rating-value\"]').get_text()\n",
    "        except:\n",
    "            critic_positive = []\n",
    "        try:   \n",
    "            critic_value = critic_section.select_one('div[class*=\"styles_countBlock\"]').get_text()\n",
    "        except:\n",
    "            critic_value = []\n",
    "        try:\n",
    "            critic_star = critic_section.select_one('div[class*=\"styles_starValue\"]').get_text()\n",
    "        except:\n",
    "            critic_star = []\n",
    "        lst = [critic_positive, critic_value, critic_star]\n",
    "    except:\n",
    "        lst = []\n",
    "    return lst\n",
    "    "
   ]
  },
  {
   "cell_type": "code",
   "execution_count": 181,
   "id": "b343f01e",
   "metadata": {},
   "outputs": [],
   "source": [
    "driver = webdriver.Chrome(service=service) # Открывает новую отдельную вкладку браузера хром от selenium"
   ]
  },
  {
   "cell_type": "code",
   "execution_count": 138,
   "id": "dc9a9f48",
   "metadata": {
    "scrolled": true
   },
   "outputs": [],
   "source": [
    "#soup = get_soup(lnk)"
   ]
  },
  {
   "cell_type": "code",
   "execution_count": 173,
   "id": "11c28f62",
   "metadata": {
    "scrolled": true
   },
   "outputs": [],
   "source": [
    "#soup"
   ]
  },
  {
   "cell_type": "code",
   "execution_count": 165,
   "id": "b0190d13",
   "metadata": {
    "scrolled": true
   },
   "outputs": [
    {
     "data": {
      "text/plain": [
       "['78%', '18 оценок', []]"
      ]
     },
     "execution_count": 165,
     "metadata": {},
     "output_type": "execute_result"
    }
   ],
   "source": [
    "top = get_low(soup)\n",
    "top\n"
   ]
  },
  {
   "cell_type": "code",
   "execution_count": 113,
   "id": "bb3e6838",
   "metadata": {},
   "outputs": [],
   "source": [
    "def full_parse(row):\n",
    "    soup = get_soup(row)\n",
    "    name_rate = get_top(soup)\n",
    "    about_film = get_about(soup)\n",
    "    actors = get_actor(soup)\n",
    "    critic_rate = get_low(soup)\n",
    "    dic = {'name_rate': name_rate, 'about_film': about_film, 'actors': actors, 'critic_rate': critic_rate}\n",
    "    return dic"
   ]
  },
  {
   "cell_type": "code",
   "execution_count": 185,
   "id": "77d32350",
   "metadata": {
    "scrolled": true
   },
   "outputs": [
    {
     "data": {
      "text/plain": [
       "{'name_rate': [{'name': 'Вышка (2022)',\n",
       "   'description': 'Две подруги застревают на заброшенной 600-метровой вышке в пустыне. Головокружительный триллер о выживании',\n",
       "   'rating': '6.8',\n",
       "   'grades': '477 738 оценок'}],\n",
       " 'about_film': [{'Аудиодорожки': [<div class=\"styles_valueLight__nAaO3 styles_value__g6yP4\" data-tid=\"e1e37c21\"><div class=\"styles_valueLight__UMEMJ\">Русский (Велес), Русский 5.1 (Велес)</div></div>,\n",
       "    <div class=\"styles_valueLight__UMEMJ\">Русский (Велес), Русский 5.1 (Велес)</div>]},\n",
       "  {'Субтитры': [<div class=\"styles_valueLight__nAaO3 styles_value__g6yP4\" data-tid=\"e1e37c21\"><div class=\"styles_valueLight__UMEMJ\">Русские</div></div>,\n",
       "    <div class=\"styles_valueLight__UMEMJ\">Русские</div>]},\n",
       "  {'Качество видео': [<div class=\"styles_valueLight__nAaO3 styles_value__g6yP4 styles_definitionRowValue__QvGno\" data-tid=\"7e7b470c\"><svg data-tid=\"43b9c55a\" fill=\"none\" height=\"16\" viewbox=\"0 0 50 16\" width=\"50\" xmlns=\"http://www.w3.org/2000/svg\"><path d=\"M6.97298 12H8.75498V8.953H11.34V7.611H8.75498V5.532H12.022V4.135H6.97298V12ZM14.7703 12.121C15.7163 12.121 16.2993 11.681 16.5963 11.098V12H18.1803V6.247H16.5963V9.624C16.5963 10.471 16.0683 10.889 15.3973 10.889C14.7153 10.889 14.3963 10.515 14.3963 9.734V6.247H12.8123V9.954C12.8123 11.461 13.6483 12.121 14.7703 12.121ZM19.6357 12H21.2197V3.64H19.6357V12ZM22.7187 12H24.3027V3.64H22.7187V12ZM28.3392 12H30.1212V8.755H33.2782V12H35.0602V4.135H33.2782V7.347H30.1212V4.135H28.3392V12ZM36.7396 12H39.3026C42.0636 12 43.4386 10.427 43.4386 8.073V7.985C43.4386 5.631 42.0746 4.135 39.3136 4.135H36.7396V12ZM38.5216 10.614V5.521H39.2256C40.8866 5.521 41.5796 6.39 41.5796 8.007V8.095C41.5796 9.723 40.8316 10.614 39.2476 10.614H38.5216Z\" fill=\"rgba(255, 255, 255, 0.8)\"></path><rect height=\"14.5\" stroke=\"rgba(255, 255, 255, 0.8)\" stroke-width=\"1.5\" width=\"48.5\" x=\"0.75\" y=\"0.75\"></rect></svg></div>]},\n",
       "  {'Год производства': [<div class=\"styles_valueLight__nAaO3 styles_value__g6yP4\" data-tid=\"cfbe5a01\"><a class=\"styles_linkLight__cha3C styles_link__3QfAk\" href=\"/lists/movies/year--2022/?b=films&amp;b=top\">2022</a></div>]},\n",
       "  {'Страна': [<div class=\"styles_valueLight__nAaO3 styles_value__g6yP4\" data-tid=\"d5ff4cc\"><a class=\"styles_linkLight__cha3C styles_link__3QfAk\" data-tid=\"603f73a4\" href=\"/lists/movies/country--11/?b=films&amp;b=top\">Великобритания</a>, <a class=\"styles_linkLight__cha3C styles_link__3QfAk\" data-tid=\"603f73a4\" href=\"/lists/movies/country--1/?b=films&amp;b=top\">США</a></div>]},\n",
       "  {'Жанр': [<div class=\"styles_valueLight__nAaO3 styles_value__g6yP4 styles_root__5PEXQ\" data-tid=\"28726596\"><div class=\"styles_valueLight__nAaO3 styles_value__g6yP4\" data-tid=\"d5ff4cc\"><a class=\"styles_linkLight__cha3C styles_link__3QfAk\" data-tid=\"603f73a4\" href=\"/lists/movies/genre--thriller/?b=films&amp;b=top\">триллер</a></div><a class=\"styles_linkLight__cha3C styles_link__3QfAk keywords\" href=\"/film/4542208/keywords/\">слова</a></div>,\n",
       "    <div class=\"styles_valueLight__nAaO3 styles_value__g6yP4\" data-tid=\"d5ff4cc\"><a class=\"styles_linkLight__cha3C styles_link__3QfAk\" data-tid=\"603f73a4\" href=\"/lists/movies/genre--thriller/?b=films&amp;b=top\">триллер</a></div>]},\n",
       "  {'Слоган': [<div class=\"styles_valueLight__nAaO3 styles_value__g6yP4\" data-tid=\"e1e37c21\"><div class=\"styles_valueLight__nAaO3 styles_value__g6yP4\">«Только не смотри вниз!»</div></div>,\n",
       "    <div class=\"styles_valueLight__nAaO3 styles_value__g6yP4\">«Только не смотри вниз!»</div>]},\n",
       "  {'Режиссер': [<div class=\"styles_valueLight__nAaO3 styles_value__g6yP4\" data-tid=\"d5ff4cc\"><a class=\"styles_linkLight__cha3C styles_link__3QfAk\" data-tid=\"603f73a4\" href=\"/name/546702/\">Скотт Манн</a></div>]},\n",
       "  {'Сценарий': [<div class=\"styles_valueLight__nAaO3 styles_value__g6yP4\" data-tid=\"d5ff4cc\"><a class=\"styles_linkLight__cha3C styles_link__3QfAk\" data-tid=\"603f73a4\" href=\"/name/1190715/\">Джонатан Фрэнк</a>, <a class=\"styles_linkLight__cha3C styles_link__3QfAk\" data-tid=\"603f73a4\" href=\"/name/546702/\">Скотт Манн</a></div>]},\n",
       "  {'Продюсер': [<div class=\"styles_valueLight__nAaO3 styles_value__g6yP4\" data-tid=\"d5ff4cc\"><a class=\"styles_linkLight__cha3C styles_link__3QfAk\" data-tid=\"603f73a4\" href=\"/name/1127927/\">Dan Asma</a>, <a class=\"styles_linkLight__cha3C styles_link__3QfAk\" data-tid=\"603f73a4\" href=\"/name/565264/\">Бэрри Брукер</a>, <a class=\"styles_linkLight__cha3C styles_link__3QfAk\" data-tid=\"603f73a4\" href=\"/name/4896752/\">Дэвид Хэйринг</a>, <a class=\"styles_linkLight__cha3C styles_link__3QfAk\" href=\"/film/4542208/cast/who_is/producer/\">...</a></div>]},\n",
       "  {'Оператор': [<div class=\"styles_valueLight__nAaO3 styles_value__g6yP4\" data-tid=\"d5ff4cc\"><a class=\"styles_linkLight__cha3C styles_link__3QfAk\" data-tid=\"603f73a4\" href=\"/name/1073582/\">МакГрегор</a></div>]},\n",
       "  {'Композитор': [<div class=\"styles_valueLight__nAaO3 styles_value__g6yP4\" data-tid=\"d5ff4cc\"><a class=\"styles_linkLight__cha3C styles_link__3QfAk\" data-tid=\"603f73a4\" href=\"/name/731017/\">Тим Деспич</a></div>]},\n",
       "  {'Художник': [<div class=\"styles_valueLight__nAaO3 styles_value__g6yP4\" data-tid=\"d5ff4cc\"><a class=\"styles_linkLight__cha3C styles_link__3QfAk\" data-tid=\"603f73a4\" href=\"/name/5497929/\">Скотт Дэниэл</a>, <a class=\"styles_linkLight__cha3C styles_link__3QfAk\" data-tid=\"603f73a4\" href=\"/name/4164490/\">Пит Хикок</a>, <a class=\"styles_linkLight__cha3C styles_link__3QfAk\" data-tid=\"603f73a4\" href=\"/name/3355698/\">Лиза Каталина</a></div>]},\n",
       "  {'Монтаж': [<div class=\"styles_valueLight__nAaO3 styles_value__g6yP4\" data-tid=\"d5ff4cc\"><a class=\"styles_linkLight__cha3C styles_link__3QfAk\" data-tid=\"603f73a4\" href=\"/name/567988/\">Роберт Холл</a></div>]},\n",
       "  {'Бюджет': [<div class=\"styles_valueLight__nAaO3 styles_value__g6yP4\" data-tid=\"cfbe5a01\"><a class=\"styles_linkLight__cha3C styles_link__3QfAk\" href=\"/film/4542208/box/\">$3 000 000</a></div>]},\n",
       "  {'Сборы в США': [<div class=\"styles_valueLight__nAaO3 styles_value__g6yP4 styles_root__XwglO\" data-tid=\"41068c56\"><a class=\"styles_linkLight__cha3C styles_link__3QfAk\" href=\"/film/4542208/box/\">$7 240 521</a></div>]},\n",
       "  {'Сборы в мире': [<div class=\"styles_valueLight__nAaO3 styles_value__g6yP4 styles_root__XwglO\" data-tid=\"41068c56\"><a class=\"styles_linkLight__cha3C styles_link__3QfAk\" href=\"/film/4542208/box/\">+ $10 122 740 = $17 363 261</a><a class=\"styles_linkLight__cha3C styles_link__3QfAk\" href=\"/film/4542208/box/\">сборы</a></div>]},\n",
       "  {'Зрители': [<div class=\"styles_valueLight__nAaO3 styles_value__g6yP4\" data-tid=\"328581d6\"><span class=\"styles_valueLight__nAaO3 styles_value__g6yP4 styles_item__qLVK1\" data-tid=\"59164a46\"><img alt=\"Россия\" class=\"styles_icon__tVSsA\" src=\"https://st.kp.yandex.net/images/flags/flag-2.gif\"/>550.7 тыс </span>, <a class=\"styles_linkLight__cha3C styles_link__3QfAk\" href=\"/film/4542208/dates/\">...</a></div>]},\n",
       "  {'Сборы в России': [<div class=\"styles_valueLight__nAaO3 styles_value__g6yP4 styles_root__XwglO\" data-tid=\"41068c56\"><a class=\"styles_linkLight__cha3C styles_link__3QfAk\" href=\"/film/4542208/box/\">$2 714 652</a></div>]},\n",
       "  {'Премьера в Росcии': [<div class=\"styles_valueLight__nAaO3 styles_value__g6yP4\" data-tid=\"ca30f216\"><a class=\"styles_linkLight__cha3C styles_link__3QfAk\" data-tid=\"3aaab4fd\" href=\"/premiere/ru/2022/to/4542208/#4542208\">11 августа 2022</a>, <a class=\"styles_linkLight__cha3C styles_link__3QfAk\" data-tid=\"3aaab4fd\" href=\"/lists/m_act[company]/418/\">«Global Film»</a><span class=\"styles_stickers__hGaZH\"></span></div>]},\n",
       "  {'Премьера в мире': [<div class=\"styles_valueLight__nAaO3 styles_value__g6yP4\" data-tid=\"d5ff4cc\"><a class=\"styles_linkLight__cha3C styles_link__3QfAk\" data-tid=\"603f73a4\" href=\"/film/4542208/dates/\">10 августа 2022</a>, <a class=\"styles_linkLight__cha3C styles_link__3QfAk\" href=\"/film/4542208/dates/\">...</a></div>]},\n",
       "  {'Цифровой релиз': [<div class=\"styles_valueLight__nAaO3 styles_value__g6yP4\" data-tid=\"d5ff4cc\"><a class=\"styles_linkLight__cha3C styles_link__3QfAk\" data-tid=\"603f73a4\" href=\"/lists/movies/coming-soon-digital/\">28 сентября 2022</a>, <a class=\"styles_linkLight__cha3C styles_link__3QfAk\" data-tid=\"603f73a4\" href=\"/comingsoon/digital/company/196/\">«MDfilm»</a></div>]},\n",
       "  {'Возраст': [<div class=\"styles_valueLight__nAaO3 styles_value__g6yP4 styles_restrictionRow__JTXWD\" data-tid=\"b7fd8541\"><a class=\"styles_restrictionLink__iy4n9\"><span class=\"styles_rootHighContrast__Bevle styles_rootHighContrastInDark___UcNT\" data-tid=\"5c1ffa33\">18+</span></a></div>]},\n",
       "  {'Рейтинг MPAA': [<div class=\"styles_valueLight__nAaO3 styles_value__g6yP4 styles_restrictionRow__JTXWD\" data-tid=\"b7fd8541\"><a class=\"styles_restrictionLink__iy4n9\" href=\"/film/4542208/rn/PG-13/\"><span class=\"styles_rootHighContrast__Bevle styles_rootHighContrastInDark___UcNT\" data-tid=\"5c1ffa33\">PG-13</span><span class=\"styles_restrictionDescription__4j5Pk styles_valueLight__nAaO3 styles_value__g6yP4\">детям до 13 лет просмотр не желателен</span></a></div>]},\n",
       "  {'Время': [<div class=\"styles_valueLight__nAaO3 styles_value__g6yP4\" data-tid=\"e1e37c21\"><div class=\"styles_valueLight__nAaO3 styles_value__g6yP4\">107 мин. / 01:47</div></div>,\n",
       "    <div class=\"styles_valueLight__nAaO3 styles_value__g6yP4\">107 мин. / 01:47</div>]}],\n",
       " 'actors': [{'actor_name': 'Грэйс Фултон', 'link': '/name/694506/'},\n",
       "  {'actor_name': 'Вирджиния Гарднер', 'link': '/name/2640392/'},\n",
       "  {'actor_name': 'Мэйсон Гудинг', 'link': '/name/4898863/'},\n",
       "  {'actor_name': 'Джеффри Дин Морган', 'link': '/name/58833/'},\n",
       "  {'actor_name': 'Джаспер Коул', 'link': '/name/459072/'},\n",
       "  {'actor_name': 'Даррел Деннис', 'link': '/name/119740/'},\n",
       "  {'actor_name': 'Бамм Эриксен', 'link': '/name/3545562/'},\n",
       "  {'actor_name': 'Джулия Пэйс Митчелл', 'link': '/name/1119107/'},\n",
       "  {'actor_name': 'Evie Mann', 'link': '/name/6945635/'},\n",
       "  {'actor_name': 'Joseph Mann', 'link': '/name/6945636/'}],\n",
       " 'critic_rate': ['79%', '141 оценка6.4', []]}"
      ]
     },
     "execution_count": 185,
     "metadata": {},
     "output_type": "execute_result"
    }
   ],
   "source": [
    "rez_dict = full_parse(lnk)\n",
    "rez_dict"
   ]
  },
  {
   "cell_type": "code",
   "execution_count": 188,
   "id": "57bdd764",
   "metadata": {},
   "outputs": [
    {
     "data": {
      "text/plain": [
       "[{'name': 'Вышка (2022)',\n",
       "  'description': 'Две подруги застревают на заброшенной 600-метровой вышке в пустыне. Головокружительный триллер о выживании',\n",
       "  'rating': '6.8',\n",
       "  'grades': '477 738 оценок'}]"
      ]
     },
     "execution_count": 188,
     "metadata": {},
     "output_type": "execute_result"
    }
   ],
   "source": [
    "rez_dict['name_rate']"
   ]
  },
  {
   "cell_type": "code",
   "execution_count": 189,
   "id": "d1d92366",
   "metadata": {},
   "outputs": [
    {
     "name": "stdout",
     "output_type": "stream",
     "text": [
      "1\n"
     ]
    }
   ],
   "source": [
    "print(len(rez_dict['name_rate']))"
   ]
  },
  {
   "cell_type": "code",
   "execution_count": 186,
   "id": "6ca87a26",
   "metadata": {},
   "outputs": [
    {
     "ename": "ValueError",
     "evalue": "All arrays must be of the same length",
     "output_type": "error",
     "traceback": [
      "\u001b[1;31m---------------------------------------------------------------------------\u001b[0m",
      "\u001b[1;31mValueError\u001b[0m                                Traceback (most recent call last)",
      "Input \u001b[1;32mIn [186]\u001b[0m, in \u001b[0;36m<cell line: 1>\u001b[1;34m()\u001b[0m\n\u001b[1;32m----> 1\u001b[0m d1 \u001b[38;5;241m=\u001b[39m \u001b[43mpd\u001b[49m\u001b[38;5;241;43m.\u001b[39;49m\u001b[43mDataFrame\u001b[49m\u001b[43m(\u001b[49m\u001b[43mrez_dict\u001b[49m\u001b[43m)\u001b[49m\n\u001b[0;32m      2\u001b[0m d1\n",
      "File \u001b[1;32mC:\\Users\\Admin\\anaconda3\\lib\\site-packages\\pandas\\core\\frame.py:636\u001b[0m, in \u001b[0;36mDataFrame.__init__\u001b[1;34m(self, data, index, columns, dtype, copy)\u001b[0m\n\u001b[0;32m    630\u001b[0m     mgr \u001b[38;5;241m=\u001b[39m \u001b[38;5;28mself\u001b[39m\u001b[38;5;241m.\u001b[39m_init_mgr(\n\u001b[0;32m    631\u001b[0m         data, axes\u001b[38;5;241m=\u001b[39m{\u001b[38;5;124m\"\u001b[39m\u001b[38;5;124mindex\u001b[39m\u001b[38;5;124m\"\u001b[39m: index, \u001b[38;5;124m\"\u001b[39m\u001b[38;5;124mcolumns\u001b[39m\u001b[38;5;124m\"\u001b[39m: columns}, dtype\u001b[38;5;241m=\u001b[39mdtype, copy\u001b[38;5;241m=\u001b[39mcopy\n\u001b[0;32m    632\u001b[0m     )\n\u001b[0;32m    634\u001b[0m \u001b[38;5;28;01melif\u001b[39;00m \u001b[38;5;28misinstance\u001b[39m(data, \u001b[38;5;28mdict\u001b[39m):\n\u001b[0;32m    635\u001b[0m     \u001b[38;5;66;03m# GH#38939 de facto copy defaults to False only in non-dict cases\u001b[39;00m\n\u001b[1;32m--> 636\u001b[0m     mgr \u001b[38;5;241m=\u001b[39m \u001b[43mdict_to_mgr\u001b[49m\u001b[43m(\u001b[49m\u001b[43mdata\u001b[49m\u001b[43m,\u001b[49m\u001b[43m \u001b[49m\u001b[43mindex\u001b[49m\u001b[43m,\u001b[49m\u001b[43m \u001b[49m\u001b[43mcolumns\u001b[49m\u001b[43m,\u001b[49m\u001b[43m \u001b[49m\u001b[43mdtype\u001b[49m\u001b[38;5;241;43m=\u001b[39;49m\u001b[43mdtype\u001b[49m\u001b[43m,\u001b[49m\u001b[43m \u001b[49m\u001b[43mcopy\u001b[49m\u001b[38;5;241;43m=\u001b[39;49m\u001b[43mcopy\u001b[49m\u001b[43m,\u001b[49m\u001b[43m \u001b[49m\u001b[43mtyp\u001b[49m\u001b[38;5;241;43m=\u001b[39;49m\u001b[43mmanager\u001b[49m\u001b[43m)\u001b[49m\n\u001b[0;32m    637\u001b[0m \u001b[38;5;28;01melif\u001b[39;00m \u001b[38;5;28misinstance\u001b[39m(data, ma\u001b[38;5;241m.\u001b[39mMaskedArray):\n\u001b[0;32m    638\u001b[0m     \u001b[38;5;28;01mimport\u001b[39;00m \u001b[38;5;21;01mnumpy\u001b[39;00m\u001b[38;5;21;01m.\u001b[39;00m\u001b[38;5;21;01mma\u001b[39;00m\u001b[38;5;21;01m.\u001b[39;00m\u001b[38;5;21;01mmrecords\u001b[39;00m \u001b[38;5;28;01mas\u001b[39;00m \u001b[38;5;21;01mmrecords\u001b[39;00m\n",
      "File \u001b[1;32mC:\\Users\\Admin\\anaconda3\\lib\\site-packages\\pandas\\core\\internals\\construction.py:502\u001b[0m, in \u001b[0;36mdict_to_mgr\u001b[1;34m(data, index, columns, dtype, typ, copy)\u001b[0m\n\u001b[0;32m    494\u001b[0m     arrays \u001b[38;5;241m=\u001b[39m [\n\u001b[0;32m    495\u001b[0m         x\n\u001b[0;32m    496\u001b[0m         \u001b[38;5;28;01mif\u001b[39;00m \u001b[38;5;129;01mnot\u001b[39;00m \u001b[38;5;28mhasattr\u001b[39m(x, \u001b[38;5;124m\"\u001b[39m\u001b[38;5;124mdtype\u001b[39m\u001b[38;5;124m\"\u001b[39m) \u001b[38;5;129;01mor\u001b[39;00m \u001b[38;5;129;01mnot\u001b[39;00m \u001b[38;5;28misinstance\u001b[39m(x\u001b[38;5;241m.\u001b[39mdtype, ExtensionDtype)\n\u001b[0;32m    497\u001b[0m         \u001b[38;5;28;01melse\u001b[39;00m x\u001b[38;5;241m.\u001b[39mcopy()\n\u001b[0;32m    498\u001b[0m         \u001b[38;5;28;01mfor\u001b[39;00m x \u001b[38;5;129;01min\u001b[39;00m arrays\n\u001b[0;32m    499\u001b[0m     ]\n\u001b[0;32m    500\u001b[0m     \u001b[38;5;66;03m# TODO: can we get rid of the dt64tz special case above?\u001b[39;00m\n\u001b[1;32m--> 502\u001b[0m \u001b[38;5;28;01mreturn\u001b[39;00m \u001b[43marrays_to_mgr\u001b[49m\u001b[43m(\u001b[49m\u001b[43marrays\u001b[49m\u001b[43m,\u001b[49m\u001b[43m \u001b[49m\u001b[43mcolumns\u001b[49m\u001b[43m,\u001b[49m\u001b[43m \u001b[49m\u001b[43mindex\u001b[49m\u001b[43m,\u001b[49m\u001b[43m \u001b[49m\u001b[43mdtype\u001b[49m\u001b[38;5;241;43m=\u001b[39;49m\u001b[43mdtype\u001b[49m\u001b[43m,\u001b[49m\u001b[43m \u001b[49m\u001b[43mtyp\u001b[49m\u001b[38;5;241;43m=\u001b[39;49m\u001b[43mtyp\u001b[49m\u001b[43m,\u001b[49m\u001b[43m \u001b[49m\u001b[43mconsolidate\u001b[49m\u001b[38;5;241;43m=\u001b[39;49m\u001b[43mcopy\u001b[49m\u001b[43m)\u001b[49m\n",
      "File \u001b[1;32mC:\\Users\\Admin\\anaconda3\\lib\\site-packages\\pandas\\core\\internals\\construction.py:120\u001b[0m, in \u001b[0;36marrays_to_mgr\u001b[1;34m(arrays, columns, index, dtype, verify_integrity, typ, consolidate)\u001b[0m\n\u001b[0;32m    117\u001b[0m \u001b[38;5;28;01mif\u001b[39;00m verify_integrity:\n\u001b[0;32m    118\u001b[0m     \u001b[38;5;66;03m# figure out the index, if necessary\u001b[39;00m\n\u001b[0;32m    119\u001b[0m     \u001b[38;5;28;01mif\u001b[39;00m index \u001b[38;5;129;01mis\u001b[39;00m \u001b[38;5;28;01mNone\u001b[39;00m:\n\u001b[1;32m--> 120\u001b[0m         index \u001b[38;5;241m=\u001b[39m \u001b[43m_extract_index\u001b[49m\u001b[43m(\u001b[49m\u001b[43marrays\u001b[49m\u001b[43m)\u001b[49m\n\u001b[0;32m    121\u001b[0m     \u001b[38;5;28;01melse\u001b[39;00m:\n\u001b[0;32m    122\u001b[0m         index \u001b[38;5;241m=\u001b[39m ensure_index(index)\n",
      "File \u001b[1;32mC:\\Users\\Admin\\anaconda3\\lib\\site-packages\\pandas\\core\\internals\\construction.py:674\u001b[0m, in \u001b[0;36m_extract_index\u001b[1;34m(data)\u001b[0m\n\u001b[0;32m    672\u001b[0m lengths \u001b[38;5;241m=\u001b[39m \u001b[38;5;28mlist\u001b[39m(\u001b[38;5;28mset\u001b[39m(raw_lengths))\n\u001b[0;32m    673\u001b[0m \u001b[38;5;28;01mif\u001b[39;00m \u001b[38;5;28mlen\u001b[39m(lengths) \u001b[38;5;241m>\u001b[39m \u001b[38;5;241m1\u001b[39m:\n\u001b[1;32m--> 674\u001b[0m     \u001b[38;5;28;01mraise\u001b[39;00m \u001b[38;5;167;01mValueError\u001b[39;00m(\u001b[38;5;124m\"\u001b[39m\u001b[38;5;124mAll arrays must be of the same length\u001b[39m\u001b[38;5;124m\"\u001b[39m)\n\u001b[0;32m    676\u001b[0m \u001b[38;5;28;01mif\u001b[39;00m have_dicts:\n\u001b[0;32m    677\u001b[0m     \u001b[38;5;28;01mraise\u001b[39;00m \u001b[38;5;167;01mValueError\u001b[39;00m(\n\u001b[0;32m    678\u001b[0m         \u001b[38;5;124m\"\u001b[39m\u001b[38;5;124mMixing dicts with non-Series may lead to ambiguous ordering.\u001b[39m\u001b[38;5;124m\"\u001b[39m\n\u001b[0;32m    679\u001b[0m     )\n",
      "\u001b[1;31mValueError\u001b[0m: All arrays must be of the same length"
     ]
    }
   ],
   "source": [
    "d1 = pd.DataFrame(rez_dict)\n",
    "d1"
   ]
  },
  {
   "cell_type": "code",
   "execution_count": 26,
   "id": "eb55a5b8",
   "metadata": {},
   "outputs": [],
   "source": [
    "\n",
    "\n",
    "# #info_section = soup.select_one('div.styles_root__4VfvJ')\n",
    "# #info_list = info_section.select('div.styles_root__2kxYy')\n",
    "# info_section = soup.select('div.styles_root__2kxYy')\n",
    "# top_section = info_section[3]\n",
    "# mid_section = info_section[4]\n",
    "# low_section = info_section[7]\n",
    "\n",
    "# name = top_section.select_one('div.styles_title__hTCAr h1').get_text()\n",
    "# description = top_section.select_one('div.styles_topText__p__5L p').get_text()\n",
    "# rating = top_section.select_one('span.styles_ratingNeutral__meu3w').get_text()\n",
    "# grades = top_section.select_one('span.styles_count__iOIwD').get_text()\n",
    "\n",
    "# # Распаковка информационного блока \"О фильме\"\n",
    "\n",
    "# about_block = mid_section.select('div.styles_rowLight__P8Y_1')\n",
    "# list_about = []\n",
    "# for i in about_block:\n",
    "#     title = i.select_one('div.styles_titleLight__HIbfT').get_text()\n",
    "#     values = i.select('div.styles_valueLight__nAaO3')    \n",
    "#     dic = {title: values}\n",
    "#     list_about.append(dic)\n",
    "\n",
    "# #list_about\n",
    "\n",
    "# actor_block = mid_section.select('div.styles_actors__wn_C4 ul li')\n",
    "# list_actor = []\n",
    "# for i in actor_block:\n",
    "#     link = i.select_one('a').get('href')\n",
    "#     actor_name = i.get_text()\n",
    "#     dic = {'actor_name': actor_name, 'link': link}\n",
    "#     list_actor.append(dic)\n",
    "\n",
    "# critic_positive = low_section.select_one('span.styles_ratingPositive__dzFSI').get_text()\n",
    "# critic_rating = low_section.select_one('span.styles_starValue__tchEE').get_text()\n",
    "# print(critic_positive)\n",
    "# print(critic_rating)"
   ]
  },
  {
   "cell_type": "code",
   "execution_count": null,
   "id": "0a3fc8c4",
   "metadata": {},
   "outputs": [],
   "source": []
  },
  {
   "cell_type": "code",
   "execution_count": null,
   "id": "e3bdd529",
   "metadata": {},
   "outputs": [],
   "source": []
  },
  {
   "cell_type": "code",
   "execution_count": null,
   "id": "72233a84",
   "metadata": {},
   "outputs": [],
   "source": []
  },
  {
   "cell_type": "code",
   "execution_count": 6,
   "id": "c8654ad7",
   "metadata": {},
   "outputs": [],
   "source": [
    "# Извлекаем из soup-объекта название и ссылку с id фильма\n",
    "\n",
    "def links_parse(row):\n",
    "    page = []\n",
    "    time.sleep(5)\n",
    "    try:\n",
    "        soup = get_soup(row)\n",
    "        block_pos = soup.select(\"div.styles_upper__j8BIs a\")\n",
    "        for i in block_pos:    \n",
    "            name_pos = i.select_one(\"div.base-movie-main-info_mainInfo__ZL_u3\").get_text()\n",
    "            link_pos = i.get('href')\n",
    "            dic = {'name': name_pos, 'link': link_pos}  \n",
    "            page.append(dic)\n",
    "    except:\n",
    "        page = []\n",
    "    return page"
   ]
  },
  {
   "cell_type": "code",
   "execution_count": 7,
   "id": "789f3e73",
   "metadata": {},
   "outputs": [],
   "source": [
    "# ЗАПУСК ПАРСИНГА\n",
    "# - год меняется в теле ссылки после year--\n",
    "# - количество страниц пагинации меняется в параметрах цикла range внутри скобок\n",
    "\n",
    "link = 'https://www.kinopoisk.ru/lists/movies/year--2018/?page={}'\n",
    "year = []\n",
    "driver = webdriver.Chrome(service=service) # Открывает новую отдельную вкладку браузера хром от selenium\n",
    "for i in range(1, 1188):\n",
    "    ln = link.format(i)\n",
    "    inf = links_parse(ln)\n",
    "    year.extend(inf)\n",
    "driver.quit()   # Закрывает отдельную вкладку браузера хром от selenium после выполнения цикла"
   ]
  },
  {
   "cell_type": "code",
   "execution_count": 8,
   "id": "36f1d2d4",
   "metadata": {},
   "outputs": [],
   "source": [
    "# Записываем результаты в датафрейм\n",
    "\n",
    "df_2018 = pd.DataFrame(year)"
   ]
  },
  {
   "cell_type": "code",
   "execution_count": 10,
   "id": "46fc1016",
   "metadata": {},
   "outputs": [],
   "source": [
    "# Прибавляем хвост ссылки к домену\n",
    "\n",
    "df_2018['links'] = df_2018['link'].apply(lambda x: 'https://www.kinopoisk.ru' + x)\n",
    "df_2018 = df_2018[['name', 'links']]"
   ]
  },
  {
   "cell_type": "code",
   "execution_count": 11,
   "id": "c12a591c",
   "metadata": {},
   "outputs": [
    {
     "data": {
      "text/html": [
       "<div>\n",
       "<style scoped>\n",
       "    .dataframe tbody tr th:only-of-type {\n",
       "        vertical-align: middle;\n",
       "    }\n",
       "\n",
       "    .dataframe tbody tr th {\n",
       "        vertical-align: top;\n",
       "    }\n",
       "\n",
       "    .dataframe thead th {\n",
       "        text-align: right;\n",
       "    }\n",
       "</style>\n",
       "<table border=\"1\" class=\"dataframe\">\n",
       "  <thead>\n",
       "    <tr style=\"text-align: right;\">\n",
       "      <th></th>\n",
       "      <th>name</th>\n",
       "      <th>links</th>\n",
       "    </tr>\n",
       "  </thead>\n",
       "  <tbody>\n",
       "    <tr>\n",
       "      <th>0</th>\n",
       "      <td>Рик и Морти</td>\n",
       "      <td>https://www.kinopoisk.ru/series/685246/</td>\n",
       "    </tr>\n",
       "    <tr>\n",
       "      <th>1</th>\n",
       "      <td>Триггер</td>\n",
       "      <td>https://www.kinopoisk.ru/series/1100777/</td>\n",
       "    </tr>\n",
       "    <tr>\n",
       "      <th>2</th>\n",
       "      <td>Беспринципные</td>\n",
       "      <td>https://www.kinopoisk.ru/series/1355059/</td>\n",
       "    </tr>\n",
       "    <tr>\n",
       "      <th>3</th>\n",
       "      <td>Душа</td>\n",
       "      <td>https://www.kinopoisk.ru/film/775273/</td>\n",
       "    </tr>\n",
       "    <tr>\n",
       "      <th>4</th>\n",
       "      <td>Маша и Медведь</td>\n",
       "      <td>https://www.kinopoisk.ru/series/478491/</td>\n",
       "    </tr>\n",
       "    <tr>\n",
       "      <th>...</th>\n",
       "      <td>...</td>\n",
       "      <td>...</td>\n",
       "    </tr>\n",
       "    <tr>\n",
       "      <th>51644</th>\n",
       "      <td>Never Ever</td>\n",
       "      <td>https://www.kinopoisk.ru/series/1366143/</td>\n",
       "    </tr>\n",
       "    <tr>\n",
       "      <th>51645</th>\n",
       "      <td>Партия</td>\n",
       "      <td>https://www.kinopoisk.ru/series/957853/</td>\n",
       "    </tr>\n",
       "    <tr>\n",
       "      <th>51646</th>\n",
       "      <td>Крым</td>\n",
       "      <td>https://www.kinopoisk.ru/series/982486/</td>\n",
       "    </tr>\n",
       "    <tr>\n",
       "      <th>51647</th>\n",
       "      <td>СССР</td>\n",
       "      <td>https://www.kinopoisk.ru/series/1040584/</td>\n",
       "    </tr>\n",
       "    <tr>\n",
       "      <th>51648</th>\n",
       "      <td>De Kleine Zeemeermin</td>\n",
       "      <td>https://www.kinopoisk.ru/series/1047265/</td>\n",
       "    </tr>\n",
       "  </tbody>\n",
       "</table>\n",
       "<p>51649 rows × 2 columns</p>\n",
       "</div>"
      ],
      "text/plain": [
       "                       name                                     links\n",
       "0               Рик и Морти   https://www.kinopoisk.ru/series/685246/\n",
       "1                   Триггер  https://www.kinopoisk.ru/series/1100777/\n",
       "2             Беспринципные  https://www.kinopoisk.ru/series/1355059/\n",
       "3                      Душа     https://www.kinopoisk.ru/film/775273/\n",
       "4            Маша и Медведь   https://www.kinopoisk.ru/series/478491/\n",
       "...                     ...                                       ...\n",
       "51644            Never Ever  https://www.kinopoisk.ru/series/1366143/\n",
       "51645                Партия   https://www.kinopoisk.ru/series/957853/\n",
       "51646                  Крым   https://www.kinopoisk.ru/series/982486/\n",
       "51647                  СССР  https://www.kinopoisk.ru/series/1040584/\n",
       "51648  De Kleine Zeemeermin  https://www.kinopoisk.ru/series/1047265/\n",
       "\n",
       "[51649 rows x 2 columns]"
      ]
     },
     "execution_count": 11,
     "metadata": {},
     "output_type": "execute_result"
    }
   ],
   "source": [
    "df_2018"
   ]
  },
  {
   "cell_type": "code",
   "execution_count": 13,
   "id": "77bb410c",
   "metadata": {},
   "outputs": [],
   "source": [
    "df_2018.to_csv('D:\\\\Data\\\\Kinopoisk\\\\csv\\\\df_2018.csv')"
   ]
  },
  {
   "cell_type": "code",
   "execution_count": null,
   "id": "f145b557",
   "metadata": {},
   "outputs": [],
   "source": []
  },
  {
   "cell_type": "code",
   "execution_count": 187,
   "id": "650a671c",
   "metadata": {},
   "outputs": [],
   "source": [
    "driver.quit()"
   ]
  }
 ],
 "metadata": {
  "kernelspec": {
   "display_name": "Python 3 (ipykernel)",
   "language": "python",
   "name": "python3"
  },
  "language_info": {
   "codemirror_mode": {
    "name": "ipython",
    "version": 3
   },
   "file_extension": ".py",
   "mimetype": "text/x-python",
   "name": "python",
   "nbconvert_exporter": "python",
   "pygments_lexer": "ipython3",
   "version": "3.9.12"
  }
 },
 "nbformat": 4,
 "nbformat_minor": 5
}
