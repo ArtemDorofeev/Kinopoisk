{
 "cells": [
  {
   "cell_type": "code",
   "execution_count": 1,
   "id": "45745300",
   "metadata": {
    "scrolled": false
   },
   "outputs": [
    {
     "name": "stdout",
     "output_type": "stream",
     "text": [
      "Name: webdriver-manager\n",
      "Version: 3.8.5\n",
      "Summary: Library provides the way to automatically manage drivers for different browsers\n",
      "Home-page: https://github.com/SergeyPirogov/webdriver_manager\n",
      "Author: Sergey Pirogov\n",
      "Author-email: automationremarks@gmail.com\n",
      "License: \n",
      "Location: c:\\users\\admin\\anaconda3\\lib\\site-packages\n",
      "Requires: packaging, tqdm, python-dotenv, requests\n",
      "Required-by: \n"
     ]
    }
   ],
   "source": [
    "!pip show webdriver_manager"
   ]
  },
  {
   "cell_type": "code",
   "execution_count": 6,
   "id": "6ebdf397",
   "metadata": {},
   "outputs": [],
   "source": [
    "import pandas as pd\n",
    "import numpy as np\n",
    "from selenium import webdriver\n",
    "import requests\n",
    "from bs4 import BeautifulSoup\n",
    "import lxml\n",
    "import json\n",
    "import time\n",
    "import csv"
   ]
  },
  {
   "cell_type": "code",
   "execution_count": 7,
   "id": "a9d2dc27",
   "metadata": {},
   "outputs": [],
   "source": [
    "from webdriver_manager.chrome import ChromeDriverManager\n",
    "from selenium.webdriver.chrome.service import Service"
   ]
  },
  {
   "cell_type": "code",
   "execution_count": 8,
   "id": "0b5938ac",
   "metadata": {},
   "outputs": [],
   "source": [
    "service = Service(executable_path=ChromeDriverManager().install())"
   ]
  },
  {
   "cell_type": "code",
   "execution_count": 9,
   "id": "8b660ec5",
   "metadata": {},
   "outputs": [],
   "source": [
    "# Формируем суп-объект\n",
    "\n",
    "def get_soup(url):    \n",
    "    driver.get(url)    \n",
    "    html = driver.page_source\n",
    "    soup = BeautifulSoup(html, \"lxml\")\n",
    "    return soup"
   ]
  },
  {
   "cell_type": "code",
   "execution_count": 10,
   "id": "c8654ad7",
   "metadata": {},
   "outputs": [],
   "source": [
    "# Извлекаем из soup-объекта название и ссылку с id фильма\n",
    "\n",
    "def links_parse(row):\n",
    "    page = []\n",
    "    time.sleep(5)\n",
    "    try:\n",
    "        soup = get_soup(row)\n",
    "        block_pos = soup.select(\"div.styles_upper__j8BIs a\")\n",
    "        for i in block_pos:    \n",
    "            name_pos = i.select_one(\"div.base-movie-main-info_mainInfo__ZL_u3\").get_text()\n",
    "            link_pos = i.get('href')\n",
    "            dic = {'name': name_pos, 'link': link_pos}  \n",
    "            page.append(dic)\n",
    "    except:\n",
    "        page = []\n",
    "    return page"
   ]
  },
  {
   "cell_type": "code",
   "execution_count": null,
   "id": "789f3e73",
   "metadata": {},
   "outputs": [],
   "source": [
    "# ЗАПУСК ПАРСИНГА\n",
    "# - год меняется в теле ссылки после year--\n",
    "# - количество страниц пагинации меняется в параметрах цикла range внутри скобок\n",
    "\n",
    "link = 'https://www.kinopoisk.ru/lists/movies/year--2018/?page={}'\n",
    "year = []\n",
    "driver = webdriver.Chrome(service=service) # Открывает новую отдельную вкладку браузера хром от selenium\n",
    "for i in range(1, 1188):\n",
    "    ln = link.format(i)\n",
    "    inf = links_parse(ln)\n",
    "    year.extend(inf)\n",
    "driver.quit()   # Закрывает отдельную вкладку браузера хром от selenium после выполнения цикла"
   ]
  },
  {
   "cell_type": "code",
   "execution_count": 13,
   "id": "36f1d2d4",
   "metadata": {},
   "outputs": [],
   "source": [
    "# Записываем результаты в датафрейм\n",
    "\n",
    "df_2018 = pd.DataFrame(year)"
   ]
  },
  {
   "cell_type": "code",
   "execution_count": 15,
   "id": "46fc1016",
   "metadata": {},
   "outputs": [],
   "source": [
    "# Прибавляем хвост ссылки к домену\n",
    "\n",
    "df_2018['links'] = df_2018['link'].apply(lambda x: 'https://www.kinopoisk.ru' + x)\n",
    "df_2018 = df_2018[['name', 'links']]"
   ]
  },
  {
   "cell_type": "code",
   "execution_count": 16,
   "id": "c12a591c",
   "metadata": {},
   "outputs": [
    {
     "data": {
      "text/html": [
       "<div>\n",
       "<style scoped>\n",
       "    .dataframe tbody tr th:only-of-type {\n",
       "        vertical-align: middle;\n",
       "    }\n",
       "\n",
       "    .dataframe tbody tr th {\n",
       "        vertical-align: top;\n",
       "    }\n",
       "\n",
       "    .dataframe thead th {\n",
       "        text-align: right;\n",
       "    }\n",
       "</style>\n",
       "<table border=\"1\" class=\"dataframe\">\n",
       "  <thead>\n",
       "    <tr style=\"text-align: right;\">\n",
       "      <th></th>\n",
       "      <th>name</th>\n",
       "      <th>links</th>\n",
       "    </tr>\n",
       "  </thead>\n",
       "  <tbody>\n",
       "    <tr>\n",
       "      <th>0</th>\n",
       "      <td>Джентльмены</td>\n",
       "      <td>https://www.kinopoisk.ru/film/1143242/</td>\n",
       "    </tr>\n",
       "    <tr>\n",
       "      <th>1</th>\n",
       "      <td>Игра престолов</td>\n",
       "      <td>https://www.kinopoisk.ru/series/464963/</td>\n",
       "    </tr>\n",
       "    <tr>\n",
       "      <th>2</th>\n",
       "      <td>Достать ножи</td>\n",
       "      <td>https://www.kinopoisk.ru/film/1188529/</td>\n",
       "    </tr>\n",
       "    <tr>\n",
       "      <th>3</th>\n",
       "      <td>Рик и Морти</td>\n",
       "      <td>https://www.kinopoisk.ru/series/685246/</td>\n",
       "    </tr>\n",
       "    <tr>\n",
       "      <th>4</th>\n",
       "      <td>Мстители: Финал</td>\n",
       "      <td>https://www.kinopoisk.ru/film/843650/</td>\n",
       "    </tr>\n",
       "    <tr>\n",
       "      <th>...</th>\n",
       "      <td>...</td>\n",
       "      <td>...</td>\n",
       "    </tr>\n",
       "    <tr>\n",
       "      <th>59045</th>\n",
       "      <td>Анна Киевская</td>\n",
       "      <td>https://www.kinopoisk.ru/film/5226188/</td>\n",
       "    </tr>\n",
       "    <tr>\n",
       "      <th>59046</th>\n",
       "      <td>Виноград на снегу</td>\n",
       "      <td>https://www.kinopoisk.ru/film/5235016/</td>\n",
       "    </tr>\n",
       "    <tr>\n",
       "      <th>59047</th>\n",
       "      <td>Бача</td>\n",
       "      <td>https://www.kinopoisk.ru/film/5249749/</td>\n",
       "    </tr>\n",
       "    <tr>\n",
       "      <th>59048</th>\n",
       "      <td>ДамСовет. Офисные хроники</td>\n",
       "      <td>https://www.kinopoisk.ru/series/5249753/</td>\n",
       "    </tr>\n",
       "    <tr>\n",
       "      <th>59049</th>\n",
       "      <td>Коснувшись сердца</td>\n",
       "      <td>https://www.kinopoisk.ru/series/5250060/</td>\n",
       "    </tr>\n",
       "  </tbody>\n",
       "</table>\n",
       "<p>59050 rows × 2 columns</p>\n",
       "</div>"
      ],
      "text/plain": [
       "                            name                                     links\n",
       "0                    Джентльмены    https://www.kinopoisk.ru/film/1143242/\n",
       "1                 Игра престолов   https://www.kinopoisk.ru/series/464963/\n",
       "2                   Достать ножи    https://www.kinopoisk.ru/film/1188529/\n",
       "3                    Рик и Морти   https://www.kinopoisk.ru/series/685246/\n",
       "4                Мстители: Финал     https://www.kinopoisk.ru/film/843650/\n",
       "...                          ...                                       ...\n",
       "59045              Анна Киевская    https://www.kinopoisk.ru/film/5226188/\n",
       "59046          Виноград на снегу    https://www.kinopoisk.ru/film/5235016/\n",
       "59047                       Бача    https://www.kinopoisk.ru/film/5249749/\n",
       "59048  ДамСовет. Офисные хроники  https://www.kinopoisk.ru/series/5249753/\n",
       "59049          Коснувшись сердца  https://www.kinopoisk.ru/series/5250060/\n",
       "\n",
       "[59050 rows x 2 columns]"
      ]
     },
     "execution_count": 16,
     "metadata": {},
     "output_type": "execute_result"
    }
   ],
   "source": [
    "df_2018"
   ]
  },
  {
   "cell_type": "code",
   "execution_count": 17,
   "id": "77bb410c",
   "metadata": {},
   "outputs": [],
   "source": [
    "df_2018.to_csv('D:\\\\Data\\\\Kinopoisk\\\\csv\\\\df_2018.csv')"
   ]
  },
  {
   "cell_type": "code",
   "execution_count": null,
   "id": "f145b557",
   "metadata": {},
   "outputs": [],
   "source": []
  },
  {
   "cell_type": "code",
   "execution_count": 8,
   "id": "650a671c",
   "metadata": {},
   "outputs": [],
   "source": [
    "driver.quit()"
   ]
  }
 ],
 "metadata": {
  "kernelspec": {
   "display_name": "Python 3 (ipykernel)",
   "language": "python",
   "name": "python3"
  },
  "language_info": {
   "codemirror_mode": {
    "name": "ipython",
    "version": 3
   },
   "file_extension": ".py",
   "mimetype": "text/x-python",
   "name": "python",
   "nbconvert_exporter": "python",
   "pygments_lexer": "ipython3",
   "version": "3.9.12"
  }
 },
 "nbformat": 4,
 "nbformat_minor": 5
}
