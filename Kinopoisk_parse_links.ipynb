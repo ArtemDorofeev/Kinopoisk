{
 "cells": [
  {
   "cell_type": "code",
   "execution_count": 3,
   "id": "45745300",
   "metadata": {
    "scrolled": false
   },
   "outputs": [
    {
     "name": "stdout",
     "output_type": "stream",
     "text": [
      "Collecting webdriver_manager\n",
      "  Downloading webdriver_manager-3.8.5-py2.py3-none-any.whl (27 kB)\n",
      "Requirement already satisfied: tqdm in c:\\users\\admin\\anaconda3\\lib\\site-packages (from webdriver_manager) (4.64.0)\n",
      "Requirement already satisfied: packaging in c:\\users\\admin\\anaconda3\\lib\\site-packages (from webdriver_manager) (21.3)\n",
      "Requirement already satisfied: requests in c:\\users\\admin\\anaconda3\\lib\\site-packages (from webdriver_manager) (2.27.1)\n",
      "Collecting python-dotenv\n",
      "  Downloading python_dotenv-0.21.1-py3-none-any.whl (19 kB)\n",
      "Requirement already satisfied: pyparsing!=3.0.5,>=2.0.2 in c:\\users\\admin\\anaconda3\\lib\\site-packages (from packaging->webdriver_manager) (3.0.4)\n",
      "Requirement already satisfied: charset-normalizer~=2.0.0 in c:\\users\\admin\\anaconda3\\lib\\site-packages (from requests->webdriver_manager) (2.0.4)\n",
      "Requirement already satisfied: urllib3<1.27,>=1.21.1 in c:\\users\\admin\\anaconda3\\lib\\site-packages (from requests->webdriver_manager) (1.26.9)\n",
      "Requirement already satisfied: idna<4,>=2.5 in c:\\users\\admin\\anaconda3\\lib\\site-packages (from requests->webdriver_manager) (3.3)\n",
      "Requirement already satisfied: certifi>=2017.4.17 in c:\\users\\admin\\anaconda3\\lib\\site-packages (from requests->webdriver_manager) (2022.12.7)\n",
      "Requirement already satisfied: colorama in c:\\users\\admin\\anaconda3\\lib\\site-packages (from tqdm->webdriver_manager) (0.4.4)\n",
      "Installing collected packages: python-dotenv, webdriver-manager\n",
      "Successfully installed python-dotenv-0.21.1 webdriver-manager-3.8.5\n"
     ]
    }
   ],
   "source": [
    "!pip install webdriver_manager"
   ]
  },
  {
   "cell_type": "code",
   "execution_count": 35,
   "id": "6ebdf397",
   "metadata": {},
   "outputs": [],
   "source": [
    "import pandas as pd\n",
    "import numpy as np\n",
    "from selenium import webdriver\n",
    "import requests\n",
    "from bs4 import BeautifulSoup\n",
    "import lxml\n",
    "import json\n",
    "import time\n",
    "import csv"
   ]
  },
  {
   "cell_type": "code",
   "execution_count": 10,
   "id": "a9d2dc27",
   "metadata": {},
   "outputs": [],
   "source": [
    "from webdriver_manager.chrome import ChromeDriverManager\n",
    "from selenium.webdriver.chrome.service import Service"
   ]
  },
  {
   "cell_type": "code",
   "execution_count": 12,
   "id": "0b5938ac",
   "metadata": {},
   "outputs": [
    {
     "name": "stderr",
     "output_type": "stream",
     "text": [
      "[WDM] - Downloading: 100%|████████████████████████████████████████████████████████| 6.79M/6.79M [00:05<00:00, 1.40MB/s]\n"
     ]
    }
   ],
   "source": [
    "service = Service(executable_path=ChromeDriverManager().install())"
   ]
  },
  {
   "cell_type": "code",
   "execution_count": 30,
   "id": "d05f4724",
   "metadata": {},
   "outputs": [],
   "source": [
    "#driver = webdriver.Chrome(service=service)"
   ]
  },
  {
   "cell_type": "code",
   "execution_count": 32,
   "id": "29934982",
   "metadata": {},
   "outputs": [],
   "source": [
    "# driver.get(lnk)\n",
    "# html = driver.page_source"
   ]
  },
  {
   "cell_type": "code",
   "execution_count": 63,
   "id": "8b660ec5",
   "metadata": {},
   "outputs": [],
   "source": [
    "# Формируем суп-объект\n",
    "\n",
    "def get_soup(url):    \n",
    "    driver.get(url)    \n",
    "    html = driver.page_source\n",
    "    soup = BeautifulSoup(html, \"lxml\")\n",
    "    return soup"
   ]
  },
  {
   "cell_type": "code",
   "execution_count": 64,
   "id": "c8654ad7",
   "metadata": {},
   "outputs": [],
   "source": [
    "# Извлекаем из soup-объекта название и ссылку с id фильма\n",
    "\n",
    "def links_parse(row):\n",
    "    page = []\n",
    "    time.sleep(5)\n",
    "    try:\n",
    "        soup = get_soup(row)\n",
    "        block_pos = soup.select(\"div.styles_upper__j8BIs a\")\n",
    "        for i in block_pos:    \n",
    "            name_pos = i.select_one(\"div.base-movie-main-info_mainInfo__ZL_u3\").get_text()\n",
    "            link_pos = i.get('href')\n",
    "            dic = {'name': name_pos, 'link': link_pos}  \n",
    "            page.append(dic)\n",
    "    except:\n",
    "        page = []\n",
    "    return page"
   ]
  },
  {
   "cell_type": "code",
   "execution_count": 65,
   "id": "789f3e73",
   "metadata": {},
   "outputs": [],
   "source": [
    "# ЗАПУСК ПАРСИНГА\n",
    "# - год меняется в теле ссылки после year--\n",
    "# - количество страниц пагинации меняется в параметрах цикла range внутри скобок\n",
    "\n",
    "link = 'https://www.kinopoisk.ru/lists/movies/year--2022/?page={}'\n",
    "year = []\n",
    "driver = webdriver.Chrome(service=service) # Открывает новую отдельную вкладку браузера хром от selenium\n",
    "for i in range(1, 666):\n",
    "    ln = link.format(i)\n",
    "    inf = links_parse(ln)\n",
    "    year.extend(inf)\n",
    "driver.quit()   # Закрывает отдельную вкладку браузера хром от selenium после выполнения цикла"
   ]
  },
  {
   "cell_type": "code",
   "execution_count": 66,
   "id": "36f1d2d4",
   "metadata": {},
   "outputs": [],
   "source": [
    "# Записываем результаты в датафрейм\n",
    "\n",
    "df_2022 = pd.DataFrame(year)"
   ]
  },
  {
   "cell_type": "code",
   "execution_count": 75,
   "id": "46fc1016",
   "metadata": {},
   "outputs": [],
   "source": [
    "# Прибавляем хвост ссылки к домену\n",
    "\n",
    "df_2022['links'] = df_2022['link'].apply(lambda x: 'https://www.kinopoisk.ru' + x)\n",
    "df_2022 = df_2022[['name', 'links']]"
   ]
  },
  {
   "cell_type": "code",
   "execution_count": 76,
   "id": "c12a591c",
   "metadata": {},
   "outputs": [
    {
     "data": {
      "text/html": [
       "<div>\n",
       "<style scoped>\n",
       "    .dataframe tbody tr th:only-of-type {\n",
       "        vertical-align: middle;\n",
       "    }\n",
       "\n",
       "    .dataframe tbody tr th {\n",
       "        vertical-align: top;\n",
       "    }\n",
       "\n",
       "    .dataframe thead th {\n",
       "        text-align: right;\n",
       "    }\n",
       "</style>\n",
       "<table border=\"1\" class=\"dataframe\">\n",
       "  <thead>\n",
       "    <tr style=\"text-align: right;\">\n",
       "      <th></th>\n",
       "      <th>name</th>\n",
       "      <th>links</th>\n",
       "    </tr>\n",
       "  </thead>\n",
       "  <tbody>\n",
       "    <tr>\n",
       "      <th>0</th>\n",
       "      <td>Рик и Морти</td>\n",
       "      <td>https://www.kinopoisk.ru/series/685246/</td>\n",
       "    </tr>\n",
       "    <tr>\n",
       "      <th>1</th>\n",
       "      <td>Триггер</td>\n",
       "      <td>https://www.kinopoisk.ru/series/1100777/</td>\n",
       "    </tr>\n",
       "    <tr>\n",
       "      <th>2</th>\n",
       "      <td>Мажор</td>\n",
       "      <td>https://www.kinopoisk.ru/series/820638/</td>\n",
       "    </tr>\n",
       "    <tr>\n",
       "      <th>3</th>\n",
       "      <td>Монастырь</td>\n",
       "      <td>https://www.kinopoisk.ru/series/5079093/</td>\n",
       "    </tr>\n",
       "    <tr>\n",
       "      <th>4</th>\n",
       "      <td>Беспринципные</td>\n",
       "      <td>https://www.kinopoisk.ru/series/1355059/</td>\n",
       "    </tr>\n",
       "    <tr>\n",
       "      <th>...</th>\n",
       "      <td>...</td>\n",
       "      <td>...</td>\n",
       "    </tr>\n",
       "    <tr>\n",
       "      <th>33245</th>\n",
       "      <td>Музыка летней ночи</td>\n",
       "      <td>https://www.kinopoisk.ru/film/5073920/</td>\n",
       "    </tr>\n",
       "    <tr>\n",
       "      <th>33246</th>\n",
       "      <td>Пингвины</td>\n",
       "      <td>https://www.kinopoisk.ru/film/5074010/</td>\n",
       "    </tr>\n",
       "    <tr>\n",
       "      <th>33247</th>\n",
       "      <td>Прогресс</td>\n",
       "      <td>https://www.kinopoisk.ru/film/5074011/</td>\n",
       "    </tr>\n",
       "    <tr>\n",
       "      <th>33248</th>\n",
       "      <td>Прятки</td>\n",
       "      <td>https://www.kinopoisk.ru/film/5074012/</td>\n",
       "    </tr>\n",
       "    <tr>\n",
       "      <th>33249</th>\n",
       "      <td>Фантасмагория в стиле модерн</td>\n",
       "      <td>https://www.kinopoisk.ru/film/5074019/</td>\n",
       "    </tr>\n",
       "  </tbody>\n",
       "</table>\n",
       "<p>33250 rows × 2 columns</p>\n",
       "</div>"
      ],
      "text/plain": [
       "                               name                                     links\n",
       "0                       Рик и Морти   https://www.kinopoisk.ru/series/685246/\n",
       "1                           Триггер  https://www.kinopoisk.ru/series/1100777/\n",
       "2                             Мажор   https://www.kinopoisk.ru/series/820638/\n",
       "3                         Монастырь  https://www.kinopoisk.ru/series/5079093/\n",
       "4                     Беспринципные  https://www.kinopoisk.ru/series/1355059/\n",
       "...                             ...                                       ...\n",
       "33245            Музыка летней ночи    https://www.kinopoisk.ru/film/5073920/\n",
       "33246                      Пингвины    https://www.kinopoisk.ru/film/5074010/\n",
       "33247                      Прогресс    https://www.kinopoisk.ru/film/5074011/\n",
       "33248                        Прятки    https://www.kinopoisk.ru/film/5074012/\n",
       "33249  Фантасмагория в стиле модерн    https://www.kinopoisk.ru/film/5074019/\n",
       "\n",
       "[33250 rows x 2 columns]"
      ]
     },
     "execution_count": 76,
     "metadata": {},
     "output_type": "execute_result"
    }
   ],
   "source": [
    "df_2022"
   ]
  },
  {
   "cell_type": "code",
   "execution_count": 77,
   "id": "77bb410c",
   "metadata": {},
   "outputs": [],
   "source": [
    "df_2022.to_csv('D:\\\\Data\\\\Kinopoisk\\\\df_2022.csv')"
   ]
  },
  {
   "cell_type": "code",
   "execution_count": null,
   "id": "f145b557",
   "metadata": {},
   "outputs": [],
   "source": []
  },
  {
   "cell_type": "code",
   "execution_count": null,
   "id": "650a671c",
   "metadata": {},
   "outputs": [],
   "source": []
  }
 ],
 "metadata": {
  "kernelspec": {
   "display_name": "Python 3 (ipykernel)",
   "language": "python",
   "name": "python3"
  },
  "language_info": {
   "codemirror_mode": {
    "name": "ipython",
    "version": 3
   },
   "file_extension": ".py",
   "mimetype": "text/x-python",
   "name": "python",
   "nbconvert_exporter": "python",
   "pygments_lexer": "ipython3",
   "version": "3.9.12"
  }
 },
 "nbformat": 4,
 "nbformat_minor": 5
}
